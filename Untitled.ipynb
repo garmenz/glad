{
 "cells": [
  {
   "cell_type": "code",
   "execution_count": 1,
   "metadata": {},
   "outputs": [],
   "source": [
    "pred = [{('vomiting', 'yes'), ('solid_organ_transplants', 'yes'), ('mass_gathering', 'no'), ('rash', 'yes'), ('cough', 'yes'), ('type_2_diabetes', 'yes'), ('sickle_cell_disease', 'yes'), ('bone_marrow_transplant', 'yes'), ('muscle_aches', 'yes'), ('fever', 'no'), ('sore_throat', 'yes'), ('alcohol', 'yes'), ('headache', 'yes'), ('brain_and_nervous_system_disease', 'yes'), ('request', 'test_necessity'), ('taste_loss', 'mild'), ('smoking', 'no'), ('high_blood_pressure', 'yes'), ('cardiomyopathy', 'yes'), ('nausea', 'yes'), ('coronary artery disease', 'yes'), ('hiv', 'no'), ('phlegm', 'mild'), ('chronic_kidney_disease', 'yes'), ('type_1_diabetes', 'yes'), ('chills', 'yes'), ('runny_nose', 'yes'), ('recent_travel', 'yes'), ('chronic_lung_diseases', 'yes'), ('chronic_obstructive_pulmonary_disease', 'no'), ('asthma', 'no'), ('tiredness', 'yes'), ('chest_pain', 'yes'), ('unwell_duration', 'in_two_weeks'), ('breath_difficulty', 'yes'), ('heart_failure', 'yes'), ('liver_disease', 'yes'), ('smell_loss', 'mild'), ('diarrhea', 'yes'), ('contact_with_infestor', 'yes'), ('age', 'old'), ('severe_obesity', 'yes')}, {('vomiting', 'yes'), ('solid_organ_transplants', 'yes'), ('mass_gathering', 'no'), ('rash', 'yes'), ('cough', 'yes'), ('type_2_diabetes', 'yes'), ('tiredness', 'mild'), ('chest_pain', 'severe'), ('sickle_cell_disease', 'yes'), ('bone_marrow_transplant', 'yes'), ('muscle_aches', 'yes'), ('fever', 'no'), ('sore_throat', 'yes'), ('alcohol', 'yes'), ('headache', 'yes'), ('brain_and_nervous_system_disease', 'yes'), ('taste_loss', 'mild'), ('high_blood_pressure', 'yes'), ('smoking', 'yes'), ('nausea', 'yes'), ('cardiomyopathy', 'yes'), ('coronary artery disease', 'yes'), ('hiv', 'no'), ('phlegm', 'mild'), ('chronic_kidney_disease', 'yes'), ('type_1_diabetes', 'yes'), ('chills', 'yes'), ('runny_nose', 'yes'), ('recent_travel', 'yes'), ('chronic_obstructive_pulmonary_disease', 'yes'), ('chronic_lung_diseases', 'yes'), ('asthma', 'no'), ('unwell_duration', 'in_two_weeks'), ('breath_difficulty', 'yes'), ('heart_failure', 'yes'), ('request', 'infection_chance'), ('smell_loss', 'mild'), ('liver_disease', 'yes'), ('diarrhea', 'yes'), ('contact_with_infestor', 'yes'), ('age', 'old'), ('severe_obesity', 'yes')}, {('vomiting', 'yes'), ('solid_organ_transplants', 'yes'), ('mass_gathering', 'no'), ('rash', 'yes'), ('cough', 'yes'), ('type_2_diabetes', 'yes'), ('sickle_cell_disease', 'yes'), ('bone_marrow_transplant', 'yes'), ('muscle_aches', 'yes'), ('fever', 'no'), ('sore_throat', 'yes'), ('alcohol', 'yes'), ('headache', 'yes'), ('brain_and_nervous_system_disease', 'yes'), ('request', 'test_necessity'), ('taste_loss', 'mild'), ('smoking', 'no'), ('high_blood_pressure', 'yes'), ('cardiomyopathy', 'yes'), ('nausea', 'yes'), ('coronary artery disease', 'yes'), ('hiv', 'no'), ('phlegm', 'mild'), ('chronic_kidney_disease', 'yes'), ('type_1_diabetes', 'yes'), ('chills', 'yes'), ('runny_nose', 'yes'), ('recent_travel', 'yes'), ('chronic_lung_diseases', 'yes'), ('chronic_obstructive_pulmonary_disease', 'no'), ('asthma', 'no'), ('tiredness', 'yes'), ('chest_pain', 'yes'), ('unwell_duration', 'in_two_weeks'), ('breath_difficulty', 'yes'), ('heart_failure', 'yes'), ('liver_disease', 'yes'), ('smell_loss', 'mild'), ('diarrhea', 'yes'), ('contact_with_infestor', 'yes'), ('age', 'old'), ('severe_obesity', 'yes')}, {('vomiting', 'yes'), ('solid_organ_transplants', 'yes'), ('rash', 'yes'), ('cough', 'yes'), ('mass_gathering', 'yes'), ('type_2_diabetes', 'yes'), ('tiredness', 'mild'), ('chest_pain', 'severe'), ('sickle_cell_disease', 'yes'), ('bone_marrow_transplant', 'yes'), ('muscle_aches', 'yes'), ('fever', 'no'), ('sore_throat', 'yes'), ('alcohol', 'yes'), ('headache', 'yes'), ('brain_and_nervous_system_disease', 'yes'), ('taste_loss', 'mild'), ('high_blood_pressure', 'yes'), ('smoking', 'yes'), ('nausea', 'yes'), ('cardiomyopathy', 'yes'), ('coronary artery disease', 'yes'), ('hiv', 'no'), ('phlegm', 'mild'), ('chronic_kidney_disease', 'yes'), ('type_1_diabetes', 'yes'), ('chills', 'yes'), ('runny_nose', 'yes'), ('recent_travel', 'yes'), ('chronic_obstructive_pulmonary_disease', 'yes'), ('chronic_lung_diseases', 'yes'), ('asthma', 'yes'), ('unwell_duration', 'in_two_weeks'), ('breath_difficulty', 'yes'), ('heart_failure', 'yes'), ('request', 'infection_chance'), ('smell_loss', 'mild'), ('liver_disease', 'yes'), ('diarrhea', 'yes'), ('contact_with_infestor', 'yes'), ('age', 'old'), ('severe_obesity', 'yes')}, {('vomiting', 'yes'), ('solid_organ_transplants', 'yes'), ('mass_gathering', 'no'), ('rash', 'yes'), ('cough', 'yes'), ('type_2_diabetes', 'yes'), ('sickle_cell_disease', 'yes'), ('bone_marrow_transplant', 'yes'), ('muscle_aches', 'yes'), ('fever', 'no'), ('sore_throat', 'yes'), ('alcohol', 'yes'), ('headache', 'yes'), ('brain_and_nervous_system_disease', 'yes'), ('request', 'test_necessity'), ('taste_loss', 'mild'), ('smoking', 'no'), ('high_blood_pressure', 'yes'), ('cardiomyopathy', 'yes'), ('nausea', 'yes'), ('coronary artery disease', 'yes'), ('hiv', 'no'), ('phlegm', 'mild'), ('chronic_kidney_disease', 'yes'), ('type_1_diabetes', 'yes'), ('chills', 'yes'), ('runny_nose', 'yes'), ('recent_travel', 'yes'), ('chronic_lung_diseases', 'yes'), ('chronic_obstructive_pulmonary_disease', 'no'), ('asthma', 'no'), ('tiredness', 'yes'), ('chest_pain', 'yes'), ('unwell_duration', 'in_two_weeks'), ('breath_difficulty', 'yes'), ('heart_failure', 'yes'), ('liver_disease', 'yes'), ('smell_loss', 'mild'), ('diarrhea', 'yes'), ('contact_with_infestor', 'yes'), ('age', 'old'), ('severe_obesity', 'yes')}, {('vomiting', 'yes'), ('solid_organ_transplants', 'yes'), ('mass_gathering', 'no'), ('rash', 'yes'), ('cough', 'yes'), ('type_2_diabetes', 'yes'), ('tiredness', 'mild'), ('chest_pain', 'severe'), ('sickle_cell_disease', 'yes'), ('bone_marrow_transplant', 'yes'), ('fever', 'no'), ('sore_throat', 'yes'), ('alcohol', 'yes'), ('headache', 'yes'), ('brain_and_nervous_system_disease', 'yes'), ('taste_loss', 'mild'), ('high_blood_pressure', 'yes'), ('smoking', 'yes'), ('nausea', 'yes'), ('cardiomyopathy', 'yes'), ('coronary artery disease', 'yes'), ('hiv', 'no'), ('phlegm', 'mild'), ('muscle_aches', 'mild'), ('chronic_kidney_disease', 'yes'), ('type_1_diabetes', 'yes'), ('recent_travel', 'no'), ('chills', 'yes'), ('runny_nose', 'yes'), ('chronic_obstructive_pulmonary_disease', 'yes'), ('chronic_lung_diseases', 'yes'), ('asthma', 'yes'), ('unwell_duration', 'in_two_weeks'), ('breath_difficulty', 'yes'), ('heart_failure', 'yes'), ('request', 'infection_chance'), ('smell_loss', 'mild'), ('liver_disease', 'yes'), ('diarrhea', 'yes'), ('contact_with_infestor', 'yes'), ('age', 'old'), ('severe_obesity', 'yes')}, {('vomiting', 'yes'), ('solid_organ_transplants', 'yes'), ('mass_gathering', 'no'), ('rash', 'yes'), ('cough', 'yes'), ('type_2_diabetes', 'yes'), ('sickle_cell_disease', 'yes'), ('bone_marrow_transplant', 'yes'), ('muscle_aches', 'yes'), ('fever', 'no'), ('sore_throat', 'yes'), ('alcohol', 'yes'), ('headache', 'yes'), ('brain_and_nervous_system_disease', 'yes'), ('request', 'test_necessity'), ('taste_loss', 'mild'), ('smoking', 'no'), ('high_blood_pressure', 'yes'), ('cardiomyopathy', 'yes'), ('nausea', 'yes'), ('coronary artery disease', 'yes'), ('hiv', 'no'), ('phlegm', 'mild'), ('chronic_kidney_disease', 'yes'), ('type_1_diabetes', 'yes'), ('chills', 'yes'), ('runny_nose', 'yes'), ('recent_travel', 'yes'), ('chronic_lung_diseases', 'yes'), ('chronic_obstructive_pulmonary_disease', 'no'), ('asthma', 'no'), ('tiredness', 'yes'), ('chest_pain', 'yes'), ('unwell_duration', 'in_two_weeks'), ('breath_difficulty', 'yes'), ('heart_failure', 'yes'), ('liver_disease', 'yes'), ('smell_loss', 'mild'), ('diarrhea', 'yes'), ('contact_with_infestor', 'yes'), ('age', 'old'), ('severe_obesity', 'yes')}, {('vomiting', 'yes'), ('solid_organ_transplants', 'yes'), ('mass_gathering', 'no'), ('rash', 'yes'), ('cough', 'yes'), ('type_2_diabetes', 'yes'), ('tiredness', 'mild'), ('chest_pain', 'severe'), ('sickle_cell_disease', 'yes'), ('bone_marrow_transplant', 'yes'), ('muscle_aches', 'yes'), ('fever', 'no'), ('sore_throat', 'yes'), ('alcohol', 'yes'), ('headache', 'yes'), ('brain_and_nervous_system_disease', 'yes'), ('taste_loss', 'mild'), ('high_blood_pressure', 'yes'), ('smoking', 'yes'), ('nausea', 'yes'), ('cardiomyopathy', 'yes'), ('coronary artery disease', 'yes'), ('hiv', 'no'), ('phlegm', 'mild'), ('chronic_kidney_disease', 'yes'), ('type_1_diabetes', 'yes'), ('chills', 'yes'), ('runny_nose', 'yes'), ('recent_travel', 'yes'), ('chronic_obstructive_pulmonary_disease', 'yes'), ('chronic_lung_diseases', 'yes'), ('asthma', 'no'), ('unwell_duration', 'in_two_weeks'), ('breath_difficulty', 'yes'), ('heart_failure', 'yes'), ('request', 'infection_chance'), ('smell_loss', 'mild'), ('liver_disease', 'yes'), ('diarrhea', 'yes'), ('contact_with_infestor', 'yes'), ('age', 'old'), ('severe_obesity', 'yes')}, {('vomiting', 'yes'), ('solid_organ_transplants', 'yes'), ('mass_gathering', 'no'), ('rash', 'yes'), ('cough', 'yes'), ('type_2_diabetes', 'yes'), ('sickle_cell_disease', 'yes'), ('bone_marrow_transplant', 'yes'), ('muscle_aches', 'yes'), ('fever', 'no'), ('sore_throat', 'yes'), ('alcohol', 'yes'), ('headache', 'yes'), ('brain_and_nervous_system_disease', 'yes'), ('request', 'test_necessity'), ('taste_loss', 'mild'), ('smoking', 'no'), ('high_blood_pressure', 'yes'), ('cardiomyopathy', 'yes'), ('nausea', 'yes'), ('coronary artery disease', 'yes'), ('hiv', 'no'), ('phlegm', 'mild'), ('chronic_kidney_disease', 'yes'), ('type_1_diabetes', 'yes'), ('chills', 'yes'), ('runny_nose', 'yes'), ('recent_travel', 'yes'), ('chronic_lung_diseases', 'yes'), ('chronic_obstructive_pulmonary_disease', 'no'), ('asthma', 'no'), ('tiredness', 'yes'), ('chest_pain', 'yes'), ('unwell_duration', 'in_two_weeks'), ('breath_difficulty', 'yes'), ('heart_failure', 'yes'), ('liver_disease', 'yes'), ('smell_loss', 'mild'), ('diarrhea', 'yes'), ('contact_with_infestor', 'yes'), ('age', 'old'), ('severe_obesity', 'yes')}, {('vomiting', 'yes'), ('solid_organ_transplants', 'yes'), ('mass_gathering', 'no'), ('rash', 'yes'), ('cough', 'yes'), ('type_2_diabetes', 'yes'), ('tiredness', 'mild'), ('chest_pain', 'severe'), ('sickle_cell_disease', 'yes'), ('bone_marrow_transplant', 'yes'), ('muscle_aches', 'yes'), ('fever', 'no'), ('sore_throat', 'yes'), ('alcohol', 'yes'), ('headache', 'yes'), ('brain_and_nervous_system_disease', 'yes'), ('taste_loss', 'mild'), ('high_blood_pressure', 'yes'), ('smoking', 'yes'), ('nausea', 'yes'), ('cardiomyopathy', 'yes'), ('coronary artery disease', 'yes'), ('hiv', 'no'), ('phlegm', 'mild'), ('chronic_kidney_disease', 'yes'), ('type_1_diabetes', 'yes'), ('chills', 'yes'), ('runny_nose', 'yes'), ('recent_travel', 'yes'), ('chronic_obstructive_pulmonary_disease', 'yes'), ('chronic_lung_diseases', 'yes'), ('asthma', 'no'), ('unwell_duration', 'in_two_weeks'), ('breath_difficulty', 'yes'), ('heart_failure', 'yes'), ('request', 'infection_chance'), ('smell_loss', 'mild'), ('liver_disease', 'yes'), ('diarrhea', 'yes'), ('contact_with_infestor', 'yes'), ('age', 'old'), ('severe_obesity', 'yes')}, {('vomiting', 'yes'), ('solid_organ_transplants', 'yes'), ('mass_gathering', 'no'), ('rash', 'yes'), ('cough', 'yes'), ('type_2_diabetes', 'yes'), ('sickle_cell_disease', 'yes'), ('bone_marrow_transplant', 'yes'), ('muscle_aches', 'yes'), ('fever', 'no'), ('sore_throat', 'yes'), ('alcohol', 'yes'), ('headache', 'yes'), ('brain_and_nervous_system_disease', 'yes'), ('request', 'test_necessity'), ('taste_loss', 'mild'), ('smoking', 'no'), ('high_blood_pressure', 'yes'), ('cardiomyopathy', 'yes'), ('nausea', 'yes'), ('coronary artery disease', 'yes'), ('hiv', 'no'), ('phlegm', 'mild'), ('chronic_kidney_disease', 'yes'), ('type_1_diabetes', 'yes'), ('chills', 'yes'), ('runny_nose', 'yes'), ('recent_travel', 'yes'), ('chronic_lung_diseases', 'yes'), ('chronic_obstructive_pulmonary_disease', 'no'), ('asthma', 'no'), ('tiredness', 'yes'), ('chest_pain', 'yes'), ('unwell_duration', 'in_two_weeks'), ('breath_difficulty', 'yes'), ('heart_failure', 'yes'), ('liver_disease', 'yes'), ('smell_loss', 'mild'), ('diarrhea', 'yes'), ('contact_with_infestor', 'yes'), ('age', 'old'), ('severe_obesity', 'yes')}, {('vomiting', 'yes'), ('solid_organ_transplants', 'yes'), ('rash', 'yes'), ('cough', 'yes'), ('mass_gathering', 'yes'), ('type_2_diabetes', 'yes'), ('tiredness', 'mild'), ('chest_pain', 'severe'), ('sickle_cell_disease', 'yes'), ('bone_marrow_transplant', 'yes'), ('muscle_aches', 'yes'), ('fever', 'no'), ('sore_throat', 'yes'), ('alcohol', 'yes'), ('headache', 'yes'), ('brain_and_nervous_system_disease', 'yes'), ('taste_loss', 'mild'), ('high_blood_pressure', 'yes'), ('smoking', 'yes'), ('nausea', 'yes'), ('cardiomyopathy', 'yes'), ('coronary artery disease', 'yes'), ('hiv', 'no'), ('phlegm', 'mild'), ('chronic_kidney_disease', 'yes'), ('type_1_diabetes', 'yes'), ('recent_travel', 'no'), ('chills', 'yes'), ('runny_nose', 'yes'), ('breath_difficulty', 'severe'), ('chronic_obstructive_pulmonary_disease', 'yes'), ('chronic_lung_diseases', 'yes'), ('asthma', 'yes'), ('unwell_duration', 'in_two_weeks'), ('heart_failure', 'yes'), ('request', 'infection_chance'), ('smell_loss', 'mild'), ('liver_disease', 'yes'), ('diarrhea', 'yes'), ('contact_with_infestor', 'yes'), ('age', 'old'), ('severe_obesity', 'yes')}, {('vomiting', 'yes'), ('solid_organ_transplants', 'yes'), ('mass_gathering', 'no'), ('rash', 'yes'), ('cough', 'yes'), ('type_2_diabetes', 'yes'), ('chest_pain', 'severe'), ('sickle_cell_disease', 'yes'), ('bone_marrow_transplant', 'yes'), ('muscle_aches', 'yes'), ('fever', 'no'), ('sore_throat', 'yes'), ('alcohol', 'yes'), ('headache', 'yes'), ('brain_and_nervous_system_disease', 'yes'), ('request', 'test_necessity'), ('taste_loss', 'mild'), ('smoking', 'no'), ('high_blood_pressure', 'yes'), ('cardiomyopathy', 'yes'), ('nausea', 'yes'), ('coronary artery disease', 'yes'), ('hiv', 'no'), ('phlegm', 'mild'), ('chronic_kidney_disease', 'yes'), ('type_1_diabetes', 'yes'), ('chills', 'yes'), ('runny_nose', 'yes'), ('recent_travel', 'yes'), ('chronic_lung_diseases', 'yes'), ('chronic_obstructive_pulmonary_disease', 'no'), ('asthma', 'no'), ('tiredness', 'yes'), ('unwell_duration', 'in_two_weeks'), ('breath_difficulty', 'yes'), ('heart_failure', 'yes'), ('liver_disease', 'yes'), ('smell_loss', 'mild'), ('diarrhea', 'yes'), ('contact_with_infestor', 'yes'), ('age', 'old'), ('severe_obesity', 'yes')}, {('vomiting', 'yes'), ('solid_organ_transplants', 'yes'), ('mass_gathering', 'no'), ('rash', 'yes'), ('cough', 'yes'), ('type_2_diabetes', 'yes'), ('tiredness', 'mild'), ('chest_pain', 'severe'), ('sickle_cell_disease', 'yes'), ('bone_marrow_transplant', 'yes'), ('fever', 'no'), ('sore_throat', 'yes'), ('alcohol', 'yes'), ('headache', 'yes'), ('brain_and_nervous_system_disease', 'yes'), ('taste_loss', 'mild'), ('high_blood_pressure', 'yes'), ('smoking', 'yes'), ('nausea', 'yes'), ('cardiomyopathy', 'yes'), ('coronary artery disease', 'yes'), ('hiv', 'no'), ('phlegm', 'mild'), ('muscle_aches', 'mild'), ('chronic_kidney_disease', 'yes'), ('type_1_diabetes', 'yes'), ('recent_travel', 'no'), ('chills', 'yes'), ('runny_nose', 'yes'), ('chronic_obstructive_pulmonary_disease', 'yes'), ('chronic_lung_diseases', 'yes'), ('asthma', 'yes'), ('unwell_duration', 'in_two_weeks'), ('breath_difficulty', 'yes'), ('heart_failure', 'yes'), ('request', 'infection_chance'), ('smell_loss', 'mild'), ('liver_disease', 'yes'), ('diarrhea', 'yes'), ('contact_with_infestor', 'yes'), ('age', 'old'), ('severe_obesity', 'yes')}, {('vomiting', 'yes'), ('solid_organ_transplants', 'yes'), ('mass_gathering', 'no'), ('rash', 'yes'), ('cough', 'yes'), ('type_2_diabetes', 'yes'), ('sickle_cell_disease', 'yes'), ('bone_marrow_transplant', 'yes'), ('muscle_aches', 'yes'), ('fever', 'no'), ('sore_throat', 'yes'), ('alcohol', 'yes'), ('headache', 'yes'), ('brain_and_nervous_system_disease', 'yes'), ('request', 'test_necessity'), ('taste_loss', 'mild'), ('smoking', 'no'), ('high_blood_pressure', 'yes'), ('cardiomyopathy', 'yes'), ('nausea', 'yes'), ('coronary artery disease', 'yes'), ('hiv', 'no'), ('phlegm', 'mild'), ('chronic_kidney_disease', 'yes'), ('type_1_diabetes', 'yes'), ('chills', 'yes'), ('runny_nose', 'yes'), ('recent_travel', 'yes'), ('chronic_lung_diseases', 'yes'), ('chronic_obstructive_pulmonary_disease', 'no'), ('asthma', 'no'), ('tiredness', 'yes'), ('chest_pain', 'yes'), ('unwell_duration', 'in_two_weeks'), ('breath_difficulty', 'yes'), ('heart_failure', 'yes'), ('liver_disease', 'yes'), ('smell_loss', 'mild'), ('diarrhea', 'yes'), ('contact_with_infestor', 'yes'), ('age', 'old'), ('severe_obesity', 'yes')}, {('vomiting', 'yes'), ('solid_organ_transplants', 'yes'), ('mass_gathering', 'no'), ('rash', 'yes'), ('cough', 'yes'), ('type_2_diabetes', 'yes'), ('tiredness', 'mild'), ('chest_pain', 'severe'), ('sickle_cell_disease', 'yes'), ('bone_marrow_transplant', 'yes'), ('muscle_aches', 'yes'), ('fever', 'no'), ('sore_throat', 'yes'), ('alcohol', 'yes'), ('headache', 'yes'), ('brain_and_nervous_system_disease', 'yes'), ('taste_loss', 'mild'), ('high_blood_pressure', 'yes'), ('smoking', 'yes'), ('nausea', 'yes'), ('cardiomyopathy', 'yes'), ('coronary artery disease', 'yes'), ('hiv', 'no'), ('phlegm', 'mild'), ('chronic_kidney_disease', 'yes'), ('type_1_diabetes', 'yes'), ('chills', 'yes'), ('runny_nose', 'yes'), ('recent_travel', 'yes'), ('chronic_obstructive_pulmonary_disease', 'yes'), ('chronic_lung_diseases', 'yes'), ('asthma', 'no'), ('unwell_duration', 'in_two_weeks'), ('breath_difficulty', 'yes'), ('heart_failure', 'yes'), ('request', 'infection_chance'), ('smell_loss', 'mild'), ('liver_disease', 'yes'), ('diarrhea', 'yes'), ('contact_with_infestor', 'yes'), ('age', 'old'), ('severe_obesity', 'yes')}, {('vomiting', 'yes'), ('solid_organ_transplants', 'yes'), ('mass_gathering', 'no'), ('rash', 'yes'), ('cough', 'yes'), ('type_2_diabetes', 'yes'), ('sickle_cell_disease', 'yes'), ('bone_marrow_transplant', 'yes'), ('muscle_aches', 'yes'), ('fever', 'no'), ('sore_throat', 'yes'), ('alcohol', 'yes'), ('headache', 'yes'), ('brain_and_nervous_system_disease', 'yes'), ('request', 'test_necessity'), ('taste_loss', 'mild'), ('smoking', 'no'), ('high_blood_pressure', 'yes'), ('cardiomyopathy', 'yes'), ('nausea', 'yes'), ('coronary artery disease', 'yes'), ('hiv', 'no'), ('phlegm', 'mild'), ('chronic_kidney_disease', 'yes'), ('type_1_diabetes', 'yes'), ('chills', 'yes'), ('runny_nose', 'yes'), ('recent_travel', 'yes'), ('chronic_lung_diseases', 'yes'), ('chronic_obstructive_pulmonary_disease', 'no'), ('asthma', 'no'), ('tiredness', 'yes'), ('chest_pain', 'yes'), ('unwell_duration', 'in_two_weeks'), ('breath_difficulty', 'yes'), ('heart_failure', 'yes'), ('liver_disease', 'yes'), ('smell_loss', 'mild'), ('diarrhea', 'yes'), ('contact_with_infestor', 'yes'), ('age', 'old'), ('severe_obesity', 'yes')}, {('vomiting', 'yes'), ('solid_organ_transplants', 'yes'), ('mass_gathering', 'no'), ('rash', 'yes'), ('cough', 'yes'), ('type_2_diabetes', 'yes'), ('tiredness', 'mild'), ('chest_pain', 'severe'), ('sickle_cell_disease', 'yes'), ('bone_marrow_transplant', 'yes'), ('muscle_aches', 'yes'), ('fever', 'no'), ('sore_throat', 'yes'), ('alcohol', 'yes'), ('headache', 'yes'), ('brain_and_nervous_system_disease', 'yes'), ('taste_loss', 'mild'), ('high_blood_pressure', 'yes'), ('smoking', 'yes'), ('nausea', 'yes'), ('cardiomyopathy', 'yes'), ('coronary artery disease', 'yes'), ('hiv', 'no'), ('phlegm', 'mild'), ('chronic_kidney_disease', 'yes'), ('type_1_diabetes', 'yes'), ('chills', 'yes'), ('runny_nose', 'yes'), ('recent_travel', 'yes'), ('chronic_obstructive_pulmonary_disease', 'yes'), ('chronic_lung_diseases', 'yes'), ('asthma', 'no'), ('unwell_duration', 'in_two_weeks'), ('breath_difficulty', 'yes'), ('heart_failure', 'yes'), ('request', 'infection_chance'), ('smell_loss', 'mild'), ('liver_disease', 'yes'), ('diarrhea', 'yes'), ('contact_with_infestor', 'yes'), ('age', 'old'), ('severe_obesity', 'yes')}, {('vomiting', 'yes'), ('solid_organ_transplants', 'yes'), ('mass_gathering', 'no'), ('rash', 'yes'), ('cough', 'yes'), ('type_2_diabetes', 'yes'), ('sickle_cell_disease', 'yes'), ('bone_marrow_transplant', 'yes'), ('muscle_aches', 'yes'), ('fever', 'no'), ('sore_throat', 'yes'), ('alcohol', 'yes'), ('headache', 'yes'), ('brain_and_nervous_system_disease', 'yes'), ('request', 'test_necessity'), ('taste_loss', 'mild'), ('smoking', 'no'), ('high_blood_pressure', 'yes'), ('cardiomyopathy', 'yes'), ('nausea', 'yes'), ('coronary artery disease', 'yes'), ('hiv', 'no'), ('phlegm', 'mild'), ('chronic_kidney_disease', 'yes'), ('type_1_diabetes', 'yes'), ('chills', 'yes'), ('runny_nose', 'yes'), ('recent_travel', 'yes'), ('chronic_lung_diseases', 'yes'), ('chronic_obstructive_pulmonary_disease', 'no'), ('asthma', 'no'), ('tiredness', 'yes'), ('chest_pain', 'yes'), ('unwell_duration', 'in_two_weeks'), ('breath_difficulty', 'yes'), ('heart_failure', 'yes'), ('liver_disease', 'yes'), ('smell_loss', 'mild'), ('diarrhea', 'yes'), ('contact_with_infestor', 'yes'), ('age', 'old'), ('severe_obesity', 'yes')}, {('vomiting', 'yes'), ('solid_organ_transplants', 'yes'), ('rash', 'yes'), ('cough', 'yes'), ('mass_gathering', 'yes'), ('type_2_diabetes', 'yes'), ('tiredness', 'mild'), ('chest_pain', 'severe'), ('sickle_cell_disease', 'yes'), ('bone_marrow_transplant', 'yes'), ('muscle_aches', 'yes'), ('fever', 'no'), ('sore_throat', 'yes'), ('alcohol', 'yes'), ('headache', 'yes'), ('brain_and_nervous_system_disease', 'yes'), ('taste_loss', 'mild'), ('high_blood_pressure', 'yes'), ('smoking', 'yes'), ('nausea', 'yes'), ('cardiomyopathy', 'yes'), ('coronary artery disease', 'yes'), ('hiv', 'no'), ('phlegm', 'mild'), ('chronic_kidney_disease', 'yes'), ('type_1_diabetes', 'yes'), ('recent_travel', 'no'), ('chills', 'yes'), ('runny_nose', 'yes'), ('breath_difficulty', 'severe'), ('chronic_obstructive_pulmonary_disease', 'yes'), ('chronic_lung_diseases', 'yes'), ('asthma', 'yes'), ('unwell_duration', 'in_two_weeks'), ('heart_failure', 'yes'), ('request', 'infection_chance'), ('smell_loss', 'mild'), ('liver_disease', 'yes'), ('diarrhea', 'yes'), ('contact_with_infestor', 'yes'), ('age', 'old'), ('severe_obesity', 'yes')}, {('vomiting', 'yes'), ('solid_organ_transplants', 'yes'), ('mass_gathering', 'no'), ('rash', 'yes'), ('cough', 'yes'), ('type_2_diabetes', 'yes'), ('sickle_cell_disease', 'yes'), ('bone_marrow_transplant', 'yes'), ('muscle_aches', 'yes'), ('fever', 'no'), ('sore_throat', 'yes'), ('alcohol', 'yes'), ('headache', 'yes'), ('brain_and_nervous_system_disease', 'yes'), ('request', 'test_necessity'), ('taste_loss', 'mild'), ('smoking', 'no'), ('high_blood_pressure', 'yes'), ('cardiomyopathy', 'yes'), ('nausea', 'yes'), ('coronary artery disease', 'yes'), ('hiv', 'no'), ('phlegm', 'mild'), ('chronic_kidney_disease', 'yes'), ('type_1_diabetes', 'yes'), ('chills', 'yes'), ('runny_nose', 'yes'), ('recent_travel', 'yes'), ('chronic_lung_diseases', 'yes'), ('chronic_obstructive_pulmonary_disease', 'no'), ('asthma', 'no'), ('tiredness', 'yes'), ('chest_pain', 'yes'), ('unwell_duration', 'in_two_weeks'), ('breath_difficulty', 'yes'), ('heart_failure', 'yes'), ('liver_disease', 'yes'), ('smell_loss', 'mild'), ('diarrhea', 'yes'), ('contact_with_infestor', 'yes'), ('age', 'old'), ('severe_obesity', 'yes')}, {('vomiting', 'yes'), ('solid_organ_transplants', 'yes'), ('mass_gathering', 'no'), ('rash', 'yes'), ('cough', 'yes'), ('type_2_diabetes', 'yes'), ('tiredness', 'mild'), ('chest_pain', 'severe'), ('sickle_cell_disease', 'yes'), ('bone_marrow_transplant', 'yes'), ('muscle_aches', 'yes'), ('fever', 'no'), ('sore_throat', 'yes'), ('alcohol', 'yes'), ('headache', 'yes'), ('brain_and_nervous_system_disease', 'yes'), ('taste_loss', 'mild'), ('high_blood_pressure', 'yes'), ('smoking', 'yes'), ('nausea', 'yes'), ('cardiomyopathy', 'yes'), ('coronary artery disease', 'yes'), ('hiv', 'no'), ('phlegm', 'mild'), ('chronic_kidney_disease', 'yes'), ('type_1_diabetes', 'yes'), ('chills', 'yes'), ('runny_nose', 'yes'), ('recent_travel', 'yes'), ('chronic_obstructive_pulmonary_disease', 'yes'), ('chronic_lung_diseases', 'yes'), ('asthma', 'no'), ('unwell_duration', 'in_two_weeks'), ('breath_difficulty', 'yes'), ('heart_failure', 'yes'), ('request', 'infection_chance'), ('smell_loss', 'mild'), ('liver_disease', 'yes'), ('diarrhea', 'yes'), ('contact_with_infestor', 'yes'), ('age', 'old'), ('severe_obesity', 'yes')}, {('vomiting', 'yes'), ('solid_organ_transplants', 'yes'), ('mass_gathering', 'no'), ('rash', 'yes'), ('cough', 'yes'), ('type_2_diabetes', 'yes'), ('sickle_cell_disease', 'yes'), ('bone_marrow_transplant', 'yes'), ('muscle_aches', 'yes'), ('fever', 'no'), ('sore_throat', 'yes'), ('alcohol', 'yes'), ('headache', 'yes'), ('brain_and_nervous_system_disease', 'yes'), ('request', 'test_necessity'), ('taste_loss', 'mild'), ('smoking', 'no'), ('high_blood_pressure', 'yes'), ('cardiomyopathy', 'yes'), ('nausea', 'yes'), ('coronary artery disease', 'yes'), ('hiv', 'no'), ('phlegm', 'mild'), ('chronic_kidney_disease', 'yes'), ('type_1_diabetes', 'yes'), ('chills', 'yes'), ('runny_nose', 'yes'), ('recent_travel', 'yes'), ('chronic_lung_diseases', 'yes'), ('chronic_obstructive_pulmonary_disease', 'no'), ('asthma', 'no'), ('tiredness', 'yes'), ('chest_pain', 'yes'), ('unwell_duration', 'in_two_weeks'), ('breath_difficulty', 'yes'), ('heart_failure', 'yes'), ('liver_disease', 'yes'), ('smell_loss', 'mild'), ('diarrhea', 'yes'), ('contact_with_infestor', 'yes'), ('age', 'old'), ('severe_obesity', 'yes')}, {('vomiting', 'yes'), ('solid_organ_transplants', 'yes'), ('rash', 'yes'), ('cough', 'yes'), ('mass_gathering', 'yes'), ('type_2_diabetes', 'yes'), ('tiredness', 'mild'), ('chest_pain', 'severe'), ('sickle_cell_disease', 'yes'), ('bone_marrow_transplant', 'yes'), ('muscle_aches', 'yes'), ('fever', 'no'), ('sore_throat', 'yes'), ('alcohol', 'yes'), ('headache', 'yes'), ('brain_and_nervous_system_disease', 'yes'), ('taste_loss', 'mild'), ('high_blood_pressure', 'yes'), ('smoking', 'yes'), ('nausea', 'yes'), ('cardiomyopathy', 'yes'), ('coronary artery disease', 'yes'), ('hiv', 'no'), ('phlegm', 'mild'), ('chronic_kidney_disease', 'yes'), ('type_1_diabetes', 'yes'), ('recent_travel', 'no'), ('chills', 'yes'), ('runny_nose', 'yes'), ('breath_difficulty', 'severe'), ('chronic_obstructive_pulmonary_disease', 'yes'), ('chronic_lung_diseases', 'yes'), ('asthma', 'yes'), ('unwell_duration', 'in_two_weeks'), ('heart_failure', 'yes'), ('request', 'infection_chance'), ('smell_loss', 'mild'), ('liver_disease', 'yes'), ('diarrhea', 'yes'), ('contact_with_infestor', 'yes'), ('age', 'old'), ('severe_obesity', 'yes')}, {('vomiting', 'yes'), ('solid_organ_transplants', 'yes'), ('mass_gathering', 'no'), ('rash', 'yes'), ('cough', 'yes'), ('type_2_diabetes', 'yes'), ('sickle_cell_disease', 'yes'), ('bone_marrow_transplant', 'yes'), ('muscle_aches', 'yes'), ('fever', 'no'), ('sore_throat', 'yes'), ('alcohol', 'yes'), ('headache', 'yes'), ('brain_and_nervous_system_disease', 'yes'), ('request', 'test_necessity'), ('taste_loss', 'mild'), ('smoking', 'no'), ('high_blood_pressure', 'yes'), ('cardiomyopathy', 'yes'), ('nausea', 'yes'), ('coronary artery disease', 'yes'), ('hiv', 'no'), ('phlegm', 'mild'), ('chronic_kidney_disease', 'yes'), ('type_1_diabetes', 'yes'), ('chills', 'yes'), ('runny_nose', 'yes'), ('recent_travel', 'yes'), ('chronic_lung_diseases', 'yes'), ('chronic_obstructive_pulmonary_disease', 'no'), ('asthma', 'no'), ('tiredness', 'yes'), ('chest_pain', 'yes'), ('unwell_duration', 'in_two_weeks'), ('breath_difficulty', 'yes'), ('heart_failure', 'yes'), ('liver_disease', 'yes'), ('smell_loss', 'mild'), ('diarrhea', 'yes'), ('contact_with_infestor', 'yes'), ('age', 'old'), ('severe_obesity', 'yes')}, {('vomiting', 'yes'), ('solid_organ_transplants', 'yes'), ('mass_gathering', 'no'), ('rash', 'yes'), ('cough', 'yes'), ('type_2_diabetes', 'yes'), ('tiredness', 'mild'), ('chest_pain', 'severe'), ('sickle_cell_disease', 'yes'), ('bone_marrow_transplant', 'yes'), ('muscle_aches', 'yes'), ('fever', 'no'), ('sore_throat', 'yes'), ('alcohol', 'yes'), ('headache', 'yes'), ('brain_and_nervous_system_disease', 'yes'), ('taste_loss', 'mild'), ('high_blood_pressure', 'yes'), ('smoking', 'yes'), ('nausea', 'yes'), ('cardiomyopathy', 'yes'), ('coronary artery disease', 'yes'), ('hiv', 'no'), ('phlegm', 'mild'), ('chronic_kidney_disease', 'yes'), ('type_1_diabetes', 'yes'), ('chills', 'yes'), ('runny_nose', 'yes'), ('recent_travel', 'yes'), ('chronic_obstructive_pulmonary_disease', 'yes'), ('chronic_lung_diseases', 'yes'), ('asthma', 'no'), ('unwell_duration', 'in_two_weeks'), ('breath_difficulty', 'yes'), ('heart_failure', 'yes'), ('request', 'infection_chance'), ('smell_loss', 'mild'), ('liver_disease', 'yes'), ('diarrhea', 'yes'), ('contact_with_infestor', 'yes'), ('age', 'old'), ('severe_obesity', 'yes')}, {('vomiting', 'yes'), ('solid_organ_transplants', 'yes'), ('mass_gathering', 'no'), ('rash', 'yes'), ('cough', 'yes'), ('type_2_diabetes', 'yes'), ('chest_pain', 'severe'), ('sickle_cell_disease', 'yes'), ('bone_marrow_transplant', 'yes'), ('muscle_aches', 'yes'), ('fever', 'no'), ('sore_throat', 'yes'), ('alcohol', 'yes'), ('headache', 'yes'), ('brain_and_nervous_system_disease', 'yes'), ('request', 'test_necessity'), ('taste_loss', 'mild'), ('smoking', 'no'), ('high_blood_pressure', 'yes'), ('cardiomyopathy', 'yes'), ('nausea', 'yes'), ('coronary artery disease', 'yes'), ('hiv', 'no'), ('phlegm', 'mild'), ('chronic_kidney_disease', 'yes'), ('type_1_diabetes', 'yes'), ('chills', 'yes'), ('runny_nose', 'yes'), ('recent_travel', 'yes'), ('chronic_lung_diseases', 'yes'), ('chronic_obstructive_pulmonary_disease', 'no'), ('asthma', 'no'), ('tiredness', 'yes'), ('unwell_duration', 'in_two_weeks'), ('breath_difficulty', 'yes'), ('heart_failure', 'yes'), ('liver_disease', 'yes'), ('smell_loss', 'mild'), ('diarrhea', 'yes'), ('contact_with_infestor', 'yes'), ('age', 'old'), ('severe_obesity', 'yes')}, {('vomiting', 'yes'), ('solid_organ_transplants', 'yes'), ('mass_gathering', 'no'), ('rash', 'yes'), ('cough', 'yes'), ('type_2_diabetes', 'yes'), ('tiredness', 'mild'), ('chest_pain', 'severe'), ('sickle_cell_disease', 'yes'), ('bone_marrow_transplant', 'yes'), ('muscle_aches', 'yes'), ('fever', 'no'), ('sore_throat', 'yes'), ('alcohol', 'yes'), ('headache', 'yes'), ('brain_and_nervous_system_disease', 'yes'), ('taste_loss', 'mild'), ('high_blood_pressure', 'yes'), ('smoking', 'yes'), ('nausea', 'yes'), ('cardiomyopathy', 'yes'), ('coronary artery disease', 'yes'), ('hiv', 'no'), ('phlegm', 'mild'), ('chronic_kidney_disease', 'yes'), ('type_1_diabetes', 'yes'), ('chills', 'yes'), ('runny_nose', 'yes'), ('recent_travel', 'yes'), ('chronic_obstructive_pulmonary_disease', 'yes'), ('chronic_lung_diseases', 'yes'), ('asthma', 'no'), ('unwell_duration', 'in_two_weeks'), ('breath_difficulty', 'yes'), ('heart_failure', 'yes'), ('request', 'infection_chance'), ('smell_loss', 'mild'), ('liver_disease', 'yes'), ('diarrhea', 'yes'), ('contact_with_infestor', 'yes'), ('age', 'old'), ('severe_obesity', 'yes')}]\n"
   ]
  },
  {
   "cell_type": "code",
   "execution_count": 2,
   "metadata": {},
   "outputs": [
    {
     "data": {
      "text/plain": [
       "28"
      ]
     },
     "execution_count": 2,
     "metadata": {},
     "output_type": "execute_result"
    }
   ],
   "source": [
    "len(pred)"
   ]
  },
  {
   "cell_type": "code",
   "execution_count": 1,
   "metadata": {},
   "outputs": [
    {
     "name": "stderr",
     "output_type": "stream",
     "text": [
      "WARNING:root:loading split train\n",
      "WARNING:root:loading split dev\n",
      "WARNING:root:loading split test\n"
     ]
    }
   ],
   "source": [
    "import dataset\n",
    "from utils import load_dataset, get_models, load_model\n",
    "dataset, ontology, vocab, Eword = load_dataset()\n",
    "dev = dataset['dev']\n",
    "train = dataset['train']"
   ]
  },
  {
   "cell_type": "code",
   "execution_count": 4,
   "metadata": {},
   "outputs": [
    {
     "data": {
      "text/plain": [
       "973"
      ]
     },
     "execution_count": 4,
     "metadata": {},
     "output_type": "execute_result"
    }
   ],
   "source": [
    "ref = list(train.iter_turns())\n",
    "len(ref)"
   ]
  },
  {
   "cell_type": "code",
   "execution_count": 47,
   "metadata": {},
   "outputs": [
    {
     "data": {
      "text/plain": [
       "[['diarrhea', 'yes'], ['unwell_duration', 'in_a_week']]"
      ]
     },
     "execution_count": 47,
     "metadata": {},
     "output_type": "execute_result"
    }
   ],
   "source": [
    "ref[12].turn_label"
   ]
  },
  {
   "cell_type": "code",
   "execution_count": 62,
   "metadata": {},
   "outputs": [],
   "source": [
    "set12 = {('diarrhea', 'no'), ('unwell_duration', 'in_a_week')}"
   ]
  },
  {
   "cell_type": "code",
   "execution_count": 63,
   "metadata": {},
   "outputs": [],
   "source": [
    "def foo(ref, pred):\n",
    "    gbs, pbs = {}, {}\n",
    "    for p, v in ref.turn_label:\n",
    "        gbs[p] = v\n",
    "    for p, v in pred:\n",
    "        pbs[p] = v\n",
    "    return (gbs==pbs)\n",
    "        \n",
    "    "
   ]
  },
  {
   "cell_type": "code",
   "execution_count": 64,
   "metadata": {},
   "outputs": [
    {
     "data": {
      "text/plain": [
       "False"
      ]
     },
     "execution_count": 64,
     "metadata": {},
     "output_type": "execute_result"
    }
   ],
   "source": [
    "foo(ref[12], set12)"
   ]
  },
  {
   "cell_type": "code",
   "execution_count": 50,
   "metadata": {},
   "outputs": [],
   "source": [
    "sort2 = sorted(set2, key=lambda tup: tup[-1], reverse=True)"
   ]
  },
  {
   "cell_type": "code",
   "execution_count": 51,
   "metadata": {},
   "outputs": [
    {
     "data": {
      "text/plain": [
       "[('cough', 'yes', 0.07260690629482269),\n",
       " ('sore_throat', 'yes', 0.02796773612499237),\n",
       " ('fever', 'yes', 0.019939357414841652),\n",
       " ('chronic_lung_diseases', 'yes', 0.010340617038309574),\n",
       " ('contact_with_infestor', 'yes', 0.007000091951340437),\n",
       " ('breath_difficulty', 'yes', 0.005646854173392057),\n",
       " ('recent_travel', 'yes', 0.005262304563075304),\n",
       " ('headache', 'yes', 0.00498796533793211),\n",
       " ('chest_pain', 'yes', 0.004317320883274078),\n",
       " ('heart_failure', 'yes', 0.0014553879154846072),\n",
       " ('age', 'old', 0.0014215139672160149),\n",
       " ('unwell_duration', 'in_two_weeks', 0.0010887747630476952),\n",
       " ('runny_nose', 'yes', 0.0009036774863488972),\n",
       " ('muscle_aches', 'yes', 0.0004287678166292608),\n",
       " ('type_1_diabetes', 'yes', 0.0003638981725089252),\n",
       " ('tiredness', 'yes', 0.00036180950701236725),\n",
       " ('asthma', 'yes', 0.00015849574992898852),\n",
       " ('phlegm', 'yes', 0.00012536082067526877),\n",
       " ('smoking', 'yes', 0.00011840629304060712),\n",
       " ('high_blood_pressure', 'yes', 9.306460560765117e-05),\n",
       " ('nausea', 'yes', 8.569865167373791e-05),\n",
       " ('chills', 'yes', 8.554205851396546e-05),\n",
       " ('mass_gathering', 'yes', 7.72275889175944e-05),\n",
       " ('diarrhea', 'yes', 6.612405559280887e-05),\n",
       " ('liver_disease', 'yes', 1.299435825785622e-05),\n",
       " ('brain_and_nervous_system_disease', 'yes', 7.484608886443311e-06),\n",
       " ('solid_organ_transplants', 'yes', 6.842782568128314e-06),\n",
       " ('vomiting', 'yes', 4.609595180227188e-06),\n",
       " ('rash', 'yes', 4.537109361990588e-06),\n",
       " ('taste_loss', 'yes', 4.3567551983869635e-06),\n",
       " ('bone_marrow_transplant', 'yes', 3.6037047266290756e-06),\n",
       " ('chronic_kidney_disease', 'yes', 3.2566770187258953e-06),\n",
       " ('sickle_cell_disease', 'yes', 3.1835761546972208e-06),\n",
       " ('cardiomyopathy', 'yes', 2.83855138150102e-06),\n",
       " ('severe_obesity', 'yes', 2.6728994271252304e-06),\n",
       " ('type_2_diabetes', 'yes', 2.4418261546088615e-06),\n",
       " ('smell_loss', 'yes', 2.408554337307578e-06),\n",
       " ('hiv', 'yes', 2.3451639208360575e-06),\n",
       " ('chronic_obstructive_pulmonary_disease', 'yes', 2.118089696523384e-06),\n",
       " ('request', 'infection_chance', 1.7618547190068057e-06),\n",
       " ('alcohol', 'yes', 1.1346943438184098e-06),\n",
       " ('coronary artery disease', 'yes', 2.7246196054875327e-07)]"
      ]
     },
     "execution_count": 51,
     "metadata": {},
     "output_type": "execute_result"
    }
   ],
   "source": [
    "sort2"
   ]
  },
  {
   "cell_type": "code",
   "execution_count": 4,
   "metadata": {},
   "outputs": [
    {
     "data": {
      "text/plain": [
       "{'request': ['infection_chance', 'advice', 'treatment', 'test_necessity'],\n",
       " 'fever': ['no', 'yes', 'mild', 'severe'],\n",
       " 'cough': ['no', 'yes', 'mild', 'severe'],\n",
       " 'phlegm': ['no', 'yes', 'mild', 'severe'],\n",
       " 'tiredness': ['no', 'yes', 'mild', 'severe'],\n",
       " 'taste_loss': ['no', 'yes', 'mild', 'severe'],\n",
       " 'smell_loss': ['no', 'yes', 'mild', 'severe'],\n",
       " 'breath_difficulty': ['no', 'yes', 'mild', 'severe'],\n",
       " 'muscle_aches': ['no', 'yes', 'mild', 'severe'],\n",
       " 'chills': ['no', 'yes', 'mild', 'severe'],\n",
       " 'sore_throat': ['no', 'yes', 'mild', 'severe'],\n",
       " 'runny_nose': ['no', 'yes', 'mild', 'severe'],\n",
       " 'headache': ['no', 'yes', 'mild', 'severe'],\n",
       " 'chest_pain': ['no', 'yes', 'mild', 'severe'],\n",
       " 'rash': ['no', 'yes', 'mild', 'severe'],\n",
       " 'nausea': ['no', 'yes', 'mild', 'severe'],\n",
       " 'vomiting': ['no', 'yes', 'mild', 'severe'],\n",
       " 'diarrhea': ['no', 'yes', 'mild', 'severe'],\n",
       " 'unwell_duration': ['no', 'in_a_week', 'in_two_weeks', 'longer_than_2_weeks'],\n",
       " 'age': ['children', 'adult', 'old'],\n",
       " 'smoking': ['no', 'yes'],\n",
       " 'alcohol': ['no', 'yes'],\n",
       " 'heart_failure': ['no', 'yes'],\n",
       " 'coronary artery disease': ['no', 'yes'],\n",
       " 'cardiomyopathy': ['no', 'yes'],\n",
       " 'chronic_obstructive_pulmonary_disease': ['no', 'yes'],\n",
       " 'type_1_diabetes': ['no', 'yes'],\n",
       " 'type_2_diabetes': ['no', 'yes'],\n",
       " 'severe_obesity': ['no', 'yes'],\n",
       " 'chronic_kidney_disease': ['no', 'yes'],\n",
       " 'sickle_cell_disease': ['no', 'yes'],\n",
       " 'solid_organ_transplants': ['no', 'yes'],\n",
       " 'asthma': ['no', 'yes'],\n",
       " 'liver_disease': ['no', 'yes'],\n",
       " 'chronic_lung_diseases': ['no', 'yes'],\n",
       " 'bone_marrow_transplant': ['no', 'yes'],\n",
       " 'hiv': ['no', 'yes'],\n",
       " 'high_blood_pressure': ['no', 'yes'],\n",
       " 'brain_and_nervous_system_disease': ['no', 'yes'],\n",
       " 'recent_travel': ['no', 'yes'],\n",
       " 'contact_with_infestor': ['no', 'yes'],\n",
       " 'mass_gathering': ['no', 'yes']}"
      ]
     },
     "execution_count": 4,
     "metadata": {},
     "output_type": "execute_result"
    }
   ],
   "source": [
    "ontology.values"
   ]
  },
  {
   "cell_type": "code",
   "execution_count": 5,
   "metadata": {},
   "outputs": [],
   "source": [
    "import json\n",
    "dev_res = json.load(open('exp/glad/default/dev.pred.json'))"
   ]
  },
  {
   "cell_type": "code",
   "execution_count": 7,
   "metadata": {},
   "outputs": [
    {
     "data": {
      "text/plain": [
       "60"
      ]
     },
     "execution_count": 7,
     "metadata": {},
     "output_type": "execute_result"
    }
   ],
   "source": [
    "len(dev_res['dialogues'])"
   ]
  },
  {
   "cell_type": "code",
   "execution_count": 9,
   "metadata": {},
   "outputs": [
    {
     "data": {
      "text/plain": [
       "'exp/glad/default/lala.json'"
      ]
     },
     "execution_count": 9,
     "metadata": {},
     "output_type": "execute_result"
    }
   ],
   "source": [
    "import os\n",
    "os.path.join('exp/glad/default', 'lala.json')"
   ]
  },
  {
   "cell_type": "code",
   "execution_count": null,
   "metadata": {},
   "outputs": [],
   "source": []
  }
 ],
 "metadata": {
  "kernelspec": {
   "display_name": "Python 3",
   "language": "python",
   "name": "python3"
  },
  "language_info": {
   "codemirror_mode": {
    "name": "ipython",
    "version": 3
   },
   "file_extension": ".py",
   "mimetype": "text/x-python",
   "name": "python",
   "nbconvert_exporter": "python",
   "pygments_lexer": "ipython3",
   "version": "3.7.6"
  }
 },
 "nbformat": 4,
 "nbformat_minor": 4
}
