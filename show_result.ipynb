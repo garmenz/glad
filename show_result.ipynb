{
 "cells": [
  {
   "cell_type": "code",
   "execution_count": 1,
   "metadata": {},
   "outputs": [
    {
     "ename": "ModuleNotFoundError",
     "evalue": "No module named 'prettytable'",
     "output_type": "error",
     "traceback": [
      "\u001b[0;31m---------------------------------------------------------------------------\u001b[0m",
      "\u001b[0;31mModuleNotFoundError\u001b[0m                       Traceback (most recent call last)",
      "\u001b[0;32m<ipython-input-1-10ae532a8c3f>\u001b[0m in \u001b[0;36m<module>\u001b[0;34m\u001b[0m\n\u001b[1;32m      1\u001b[0m \u001b[0;32mimport\u001b[0m \u001b[0mjson\u001b[0m\u001b[0;34m\u001b[0m\u001b[0;34m\u001b[0m\u001b[0m\n\u001b[0;32m----> 2\u001b[0;31m \u001b[0;32mfrom\u001b[0m \u001b[0mprettytable\u001b[0m \u001b[0;32mimport\u001b[0m \u001b[0mPrettyTable\u001b[0m\u001b[0;34m\u001b[0m\u001b[0;34m\u001b[0m\u001b[0m\n\u001b[0m",
      "\u001b[0;31mModuleNotFoundError\u001b[0m: No module named 'prettytable'"
     ]
    }
   ],
   "source": [
    "import json\n",
    "from prettytable import PrettyTable"
   ]
  },
  {
   "cell_type": "code",
   "execution_count": 2,
   "metadata": {},
   "outputs": [],
   "source": [
    "pred_path = \"./dev.pred.json\"\n",
    "ans_path = \"../../../data/covid/ann/test.json\"\n",
    "ana_path = \"../../../data/covid/ontology.json\""
   ]
  },
  {
   "cell_type": "code",
   "execution_count": 4,
   "metadata": {},
   "outputs": [],
   "source": [
    "with open(pred_path, \"rb\") as f:\n",
    "    pred = json.load(f)\n",
    "with open(ans_path, \"rb\") as f:\n",
    "    ans = json.load(f)\n",
    "with open(ana_path, \"rb\") as f:\n",
    "    ana = json.load(f)"
   ]
  },
  {
   "cell_type": "code",
   "execution_count": 5,
   "metadata": {},
   "outputs": [],
   "source": [
    "for a in ans['dialogues']:\n",
    "    if a['dialogue_index'] == 120:\n",
    "        print(a['turns'][0]['turn_label'])\n",
    "for a in pred['dialogues']:\n",
    "    if a['dialogue_index'] == 120:\n",
    "        print(a['turns'][0]['pred'])"
   ]
  },
  {
   "cell_type": "code",
   "execution_count": 6,
   "metadata": {},
   "outputs": [
    {
     "data": {
      "text/plain": [
       "[['contact_with_infestor', 'yes']]"
      ]
     },
     "execution_count": 6,
     "metadata": {},
     "output_type": "execute_result"
    }
   ],
   "source": [
    "a['turns'][0][\"pred\"]"
   ]
  },
  {
   "cell_type": "code",
   "execution_count": 7,
   "metadata": {},
   "outputs": [
    {
     "data": {
      "text/plain": [
       "dict_keys(['dialogues'])"
      ]
     },
     "execution_count": 7,
     "metadata": {},
     "output_type": "execute_result"
    }
   ],
   "source": [
    "pred.keys()"
   ]
  },
  {
   "cell_type": "code",
   "execution_count": 8,
   "metadata": {},
   "outputs": [
    {
     "data": {
      "text/plain": [
       "60"
      ]
     },
     "execution_count": 8,
     "metadata": {},
     "output_type": "execute_result"
    }
   ],
   "source": [
    "len(pred['dialogues'])"
   ]
  },
  {
   "cell_type": "code",
   "execution_count": 9,
   "metadata": {},
   "outputs": [
    {
     "data": {
      "text/plain": [
       "60"
      ]
     },
     "execution_count": 9,
     "metadata": {},
     "output_type": "execute_result"
    }
   ],
   "source": [
    "len(ans['dialogues'])"
   ]
  },
  {
   "cell_type": "code",
   "execution_count": 10,
   "metadata": {},
   "outputs": [
    {
     "data": {
      "text/plain": [
       "['fever',\n",
       " 'cough',\n",
       " 'phlegm',\n",
       " 'tiredness',\n",
       " 'breath_difficulty',\n",
       " 'muscle_aches',\n",
       " 'chills',\n",
       " 'sore_throat',\n",
       " 'runny_nose',\n",
       " 'headache',\n",
       " 'chest_pain',\n",
       " 'nausea',\n",
       " 'vomiting',\n",
       " 'diarrhea',\n",
       " 'unwell_duration',\n",
       " 'age',\n",
       " 'smoking',\n",
       " 'heart_failure',\n",
       " 'type_1_diabetes',\n",
       " 'asthma',\n",
       " 'chronic_lung_diseases',\n",
       " 'high_blood_pressure',\n",
       " 'recent_travel',\n",
       " 'contact_with_infestor',\n",
       " 'mass_gathering']"
      ]
     },
     "execution_count": 10,
     "metadata": {},
     "output_type": "execute_result"
    }
   ],
   "source": [
    "slots = ana['slots']\n",
    "slots"
   ]
  },
  {
   "cell_type": "code",
   "execution_count": 11,
   "metadata": {},
   "outputs": [
    {
     "data": {
      "text/plain": [
       "[]"
      ]
     },
     "execution_count": 11,
     "metadata": {},
     "output_type": "execute_result"
    }
   ],
   "source": [
    "ans['dialogues'][0][\"turns\"][0]['turn_label']"
   ]
  },
  {
   "cell_type": "code",
   "execution_count": 12,
   "metadata": {},
   "outputs": [
    {
     "data": {
      "text/plain": [
       "[]"
      ]
     },
     "execution_count": 12,
     "metadata": {},
     "output_type": "execute_result"
    }
   ],
   "source": [
    "pred['dialogues'][0][\"turns\"][0]['pred']"
   ]
  },
  {
   "cell_type": "code",
   "execution_count": 13,
   "metadata": {},
   "outputs": [
    {
     "data": {
      "text/plain": [
       "{'headache', 'yes', 'yyyes'}"
      ]
     },
     "execution_count": 13,
     "metadata": {},
     "output_type": "execute_result"
    }
   ],
   "source": [
    "l1 = ['headache', 'yes']\n",
    "l2 = ['headache', 'yyyes']\n",
    "set(l1).union(set(l2))"
   ]
  },
  {
   "cell_type": "code",
   "execution_count": 14,
   "metadata": {},
   "outputs": [
    {
     "name": "stdout",
     "output_type": "stream",
     "text": [
      "defaultdict(<class 'int'>, {'fever': [9, 0, 6, 3], 'cough': [23, 3, 11, 9], 'phlegm': [4, 0, 4, 0], 'tiredness': [6, 0, 5, 1], 'breath_difficulty': [9, 1, 4, 4], 'muscle_aches': [8, 0, 7, 1], 'chills': [3, 0, 3, 0], 'sore_throat': [14, 4, 8, 2], 'runny_nose': [8, 0, 3, 5], 'headache': [9, 0, 7, 2], 'chest_pain': [4, 0, 1, 3], 'nausea': [4, 0, 4, 0], 'vomiting': [2, 0, 1, 1], 'diarrhea': [6, 0, 2, 4], 'unwell_duration': [4, 0, 2, 2], 'age': [5, 0, 4, 1], 'smoking': [2, 0, 1, 1], 'heart_failure': [2, 0, 2, 0], 'type_1_diabetes': [4, 0, 3, 1], 'asthma': [2, 0, 1, 1], 'chronic_lung_diseases': [6, 0, 5, 1], 'high_blood_pressure': [3, 0, 3, 0], 'recent_travel': [3, 0, 2, 1], 'contact_with_infestor': [8, 0, 5, 3], 'mass_gathering': [2, 0, 2, 0]})\n"
     ]
    }
   ],
   "source": [
    "from collections import defaultdict\n",
    "count = defaultdict(int)\n",
    "for key in ana['slots']:\n",
    "    count[key] = [0,0,0,0] # ans num, correct pred TP, wrong pred FN, not in pred FP\n",
    "    \n",
    "for i in range(len(pred['dialogues'])):\n",
    "    p = pred['dialogues'][i][\"turns\"][0]['pred']\n",
    "    p_d = {}\n",
    "    for p_single in p:\n",
    "        p_d[p_single[0]] = p_single[1]\n",
    "    a = ans['dialogues'][i][\"turns\"][0]['turn_label']\n",
    "    a_d = {}\n",
    "    for a_single in a:\n",
    "        a_d[a_single[0]] = a_single[1]\n",
    "        \n",
    "    l1 = a_d.keys()\n",
    "    l2 = p_d.keys()\n",
    "    \n",
    "    keys = set(l1).union(set(l2)) # keys in p_d\n",
    "    \n",
    "    \n",
    "    for aa in keys:\n",
    "        try:\n",
    "            count[aa][0] += 1\n",
    "        except:\n",
    "            print(aa, 'not in dict')\n",
    "        if aa in a_d and aa not in p_d: # not in pred FP\n",
    "            count[aa][2] += 1\n",
    "        elif (aa in p_d and aa not in a_d) or p_d[aa] != a_d[aa]: # wrong pred FN\n",
    "            count[aa][3] += 1\n",
    "        elif p_d[aa] == a_d[aa]: # correct # TP\n",
    "            count[aa][1] += 1\n",
    "print(count)"
   ]
  },
  {
   "cell_type": "code",
   "execution_count": 15,
   "metadata": {},
   "outputs": [
    {
     "name": "stdout",
     "output_type": "stream",
     "text": [
      "[0.0, 0.0, 0.0]\n",
      "[0.25, 0.21428571428571427, 0.23076923076923075]\n",
      "[0.0, 0.0, 0.0]\n",
      "[0.0, 0.0, 0.0]\n",
      "[0.2, 0.2, 0.20000000000000004]\n",
      "[0.0, 0.0, 0.0]\n",
      "[0.0, 0.0, 0.0]\n",
      "[0.6666666666666666, 0.3333333333333333, 0.4444444444444444]\n",
      "[0.0, 0.0, 0.0]\n",
      "[0.0, 0.0, 0.0]\n",
      "[0.0, 0.0, 0.0]\n",
      "[0.0, 0.0, 0.0]\n",
      "[0.0, 0.0, 0.0]\n",
      "[0.0, 0.0, 0.0]\n",
      "[0.0, 0.0, 0.0]\n",
      "[0.0, 0.0, 0.0]\n",
      "[0.0, 0.0, 0.0]\n",
      "[0.0, 0.0, 0.0]\n",
      "[0.0, 0.0, 0.0]\n",
      "[0.0, 0.0, 0.0]\n",
      "[0.0, 0.0, 0.0]\n",
      "[0.0, 0.0, 0.0]\n",
      "[0.0, 0.0, 0.0]\n",
      "[0.0, 0.0, 0.0]\n",
      "[0.0, 0.0, 0.0]\n"
     ]
    }
   ],
   "source": [
    "metrics = defaultdict(int)\n",
    "slots = ana['slots']\n",
    "for s in slots:\n",
    "    metrics[s] = []\n",
    "    if count[s][1] + count[s][3]:\n",
    "        metrics[s].append(count[s][1]/(count[s][1] + count[s][3])) # precision\n",
    "    else:\n",
    "        metrics[s].append(0.0)\n",
    "        \n",
    "    if count[s][1] + count[s][2]:\n",
    "        metrics[s].append(count[s][1]/(count[s][1] + count[s][2])) # recall\n",
    "    else:\n",
    "        metrics[s].append(0.0)\n",
    "        \n",
    "    if metrics[s] != [0,0]:\n",
    "        metrics[s].append(2*metrics[s][0]*metrics[s][1] / (metrics[s][0] + metrics[s][1]))\n",
    "    else:\n",
    "        metrics[s].append(0.0)\n",
    "    print(metrics[s])"
   ]
  },
  {
   "cell_type": "code",
   "execution_count": 16,
   "metadata": {},
   "outputs": [
    {
     "name": "stdout",
     "output_type": "stream",
     "text": [
      "fever\n",
      "+--------------+-----------------+---------------+----------------+\n",
      "| total number | correct predict | wrong predict | not in predict |\n",
      "+--------------+-----------------+---------------+----------------+\n",
      "|      9       |        0        |       6       |       3        |\n",
      "+--------------+-----------------+---------------+----------------+\n",
      "+-----------+--------+-----+\n",
      "| precision | recall |  F1 |\n",
      "+-----------+--------+-----+\n",
      "|    0.0    |  0.0   | 0.0 |\n",
      "+-----------+--------+-----+ \n",
      "\n",
      "\n",
      "cough\n",
      "+--------------+-----------------+---------------+----------------+\n",
      "| total number | correct predict | wrong predict | not in predict |\n",
      "+--------------+-----------------+---------------+----------------+\n",
      "|      23      |        3        |       11      |       9        |\n",
      "+--------------+-----------------+---------------+----------------+\n",
      "+-----------+--------+-------+\n",
      "| precision | recall |   F1  |\n",
      "+-----------+--------+-------+\n",
      "|    0.25   | 0.214  | 0.230 |\n",
      "+-----------+--------+-------+ \n",
      "\n",
      "\n",
      "phlegm\n",
      "+--------------+-----------------+---------------+----------------+\n",
      "| total number | correct predict | wrong predict | not in predict |\n",
      "+--------------+-----------------+---------------+----------------+\n",
      "|      4       |        0        |       4       |       0        |\n",
      "+--------------+-----------------+---------------+----------------+\n",
      "+-----------+--------+-----+\n",
      "| precision | recall |  F1 |\n",
      "+-----------+--------+-----+\n",
      "|    0.0    |  0.0   | 0.0 |\n",
      "+-----------+--------+-----+ \n",
      "\n",
      "\n",
      "tiredness\n",
      "+--------------+-----------------+---------------+----------------+\n",
      "| total number | correct predict | wrong predict | not in predict |\n",
      "+--------------+-----------------+---------------+----------------+\n",
      "|      6       |        0        |       5       |       1        |\n",
      "+--------------+-----------------+---------------+----------------+\n",
      "+-----------+--------+-----+\n",
      "| precision | recall |  F1 |\n",
      "+-----------+--------+-----+\n",
      "|    0.0    |  0.0   | 0.0 |\n",
      "+-----------+--------+-----+ \n",
      "\n",
      "\n",
      "breath_difficulty\n",
      "+--------------+-----------------+---------------+----------------+\n",
      "| total number | correct predict | wrong predict | not in predict |\n",
      "+--------------+-----------------+---------------+----------------+\n",
      "|      9       |        1        |       4       |       4        |\n",
      "+--------------+-----------------+---------------+----------------+\n",
      "+-----------+--------+-------+\n",
      "| precision | recall |   F1  |\n",
      "+-----------+--------+-------+\n",
      "|    0.2    |  0.2   | 0.200 |\n",
      "+-----------+--------+-------+ \n",
      "\n",
      "\n",
      "muscle_aches\n",
      "+--------------+-----------------+---------------+----------------+\n",
      "| total number | correct predict | wrong predict | not in predict |\n",
      "+--------------+-----------------+---------------+----------------+\n",
      "|      8       |        0        |       7       |       1        |\n",
      "+--------------+-----------------+---------------+----------------+\n",
      "+-----------+--------+-----+\n",
      "| precision | recall |  F1 |\n",
      "+-----------+--------+-----+\n",
      "|    0.0    |  0.0   | 0.0 |\n",
      "+-----------+--------+-----+ \n",
      "\n",
      "\n",
      "chills\n",
      "+--------------+-----------------+---------------+----------------+\n",
      "| total number | correct predict | wrong predict | not in predict |\n",
      "+--------------+-----------------+---------------+----------------+\n",
      "|      3       |        0        |       3       |       0        |\n",
      "+--------------+-----------------+---------------+----------------+\n",
      "+-----------+--------+-----+\n",
      "| precision | recall |  F1 |\n",
      "+-----------+--------+-----+\n",
      "|    0.0    |  0.0   | 0.0 |\n",
      "+-----------+--------+-----+ \n",
      "\n",
      "\n",
      "sore_throat\n",
      "+--------------+-----------------+---------------+----------------+\n",
      "| total number | correct predict | wrong predict | not in predict |\n",
      "+--------------+-----------------+---------------+----------------+\n",
      "|      14      |        4        |       8       |       2        |\n",
      "+--------------+-----------------+---------------+----------------+\n",
      "+-----------+--------+-------+\n",
      "| precision | recall |   F1  |\n",
      "+-----------+--------+-------+\n",
      "|   0.666   | 0.333  | 0.444 |\n",
      "+-----------+--------+-------+ \n",
      "\n",
      "\n",
      "runny_nose\n",
      "+--------------+-----------------+---------------+----------------+\n",
      "| total number | correct predict | wrong predict | not in predict |\n",
      "+--------------+-----------------+---------------+----------------+\n",
      "|      8       |        0        |       3       |       5        |\n",
      "+--------------+-----------------+---------------+----------------+\n",
      "+-----------+--------+-----+\n",
      "| precision | recall |  F1 |\n",
      "+-----------+--------+-----+\n",
      "|    0.0    |  0.0   | 0.0 |\n",
      "+-----------+--------+-----+ \n",
      "\n",
      "\n",
      "headache\n",
      "+--------------+-----------------+---------------+----------------+\n",
      "| total number | correct predict | wrong predict | not in predict |\n",
      "+--------------+-----------------+---------------+----------------+\n",
      "|      9       |        0        |       7       |       2        |\n",
      "+--------------+-----------------+---------------+----------------+\n",
      "+-----------+--------+-----+\n",
      "| precision | recall |  F1 |\n",
      "+-----------+--------+-----+\n",
      "|    0.0    |  0.0   | 0.0 |\n",
      "+-----------+--------+-----+ \n",
      "\n",
      "\n",
      "chest_pain\n",
      "+--------------+-----------------+---------------+----------------+\n",
      "| total number | correct predict | wrong predict | not in predict |\n",
      "+--------------+-----------------+---------------+----------------+\n",
      "|      4       |        0        |       1       |       3        |\n",
      "+--------------+-----------------+---------------+----------------+\n",
      "+-----------+--------+-----+\n",
      "| precision | recall |  F1 |\n",
      "+-----------+--------+-----+\n",
      "|    0.0    |  0.0   | 0.0 |\n",
      "+-----------+--------+-----+ \n",
      "\n",
      "\n",
      "nausea\n",
      "+--------------+-----------------+---------------+----------------+\n",
      "| total number | correct predict | wrong predict | not in predict |\n",
      "+--------------+-----------------+---------------+----------------+\n",
      "|      4       |        0        |       4       |       0        |\n",
      "+--------------+-----------------+---------------+----------------+\n",
      "+-----------+--------+-----+\n",
      "| precision | recall |  F1 |\n",
      "+-----------+--------+-----+\n",
      "|    0.0    |  0.0   | 0.0 |\n",
      "+-----------+--------+-----+ \n",
      "\n",
      "\n",
      "vomiting\n",
      "+--------------+-----------------+---------------+----------------+\n",
      "| total number | correct predict | wrong predict | not in predict |\n",
      "+--------------+-----------------+---------------+----------------+\n",
      "|      2       |        0        |       1       |       1        |\n",
      "+--------------+-----------------+---------------+----------------+\n",
      "+-----------+--------+-----+\n",
      "| precision | recall |  F1 |\n",
      "+-----------+--------+-----+\n",
      "|    0.0    |  0.0   | 0.0 |\n",
      "+-----------+--------+-----+ \n",
      "\n",
      "\n",
      "diarrhea\n",
      "+--------------+-----------------+---------------+----------------+\n",
      "| total number | correct predict | wrong predict | not in predict |\n",
      "+--------------+-----------------+---------------+----------------+\n",
      "|      6       |        0        |       2       |       4        |\n",
      "+--------------+-----------------+---------------+----------------+\n",
      "+-----------+--------+-----+\n",
      "| precision | recall |  F1 |\n",
      "+-----------+--------+-----+\n",
      "|    0.0    |  0.0   | 0.0 |\n",
      "+-----------+--------+-----+ \n",
      "\n",
      "\n",
      "unwell_duration\n",
      "+--------------+-----------------+---------------+----------------+\n",
      "| total number | correct predict | wrong predict | not in predict |\n",
      "+--------------+-----------------+---------------+----------------+\n",
      "|      4       |        0        |       2       |       2        |\n",
      "+--------------+-----------------+---------------+----------------+\n",
      "+-----------+--------+-----+\n",
      "| precision | recall |  F1 |\n",
      "+-----------+--------+-----+\n",
      "|    0.0    |  0.0   | 0.0 |\n",
      "+-----------+--------+-----+ \n",
      "\n",
      "\n",
      "age\n",
      "+--------------+-----------------+---------------+----------------+\n",
      "| total number | correct predict | wrong predict | not in predict |\n",
      "+--------------+-----------------+---------------+----------------+\n",
      "|      5       |        0        |       4       |       1        |\n",
      "+--------------+-----------------+---------------+----------------+\n",
      "+-----------+--------+-----+\n",
      "| precision | recall |  F1 |\n",
      "+-----------+--------+-----+\n",
      "|    0.0    |  0.0   | 0.0 |\n",
      "+-----------+--------+-----+ \n",
      "\n",
      "\n",
      "smoking\n",
      "+--------------+-----------------+---------------+----------------+\n",
      "| total number | correct predict | wrong predict | not in predict |\n",
      "+--------------+-----------------+---------------+----------------+\n",
      "|      2       |        0        |       1       |       1        |\n",
      "+--------------+-----------------+---------------+----------------+\n",
      "+-----------+--------+-----+\n",
      "| precision | recall |  F1 |\n",
      "+-----------+--------+-----+\n",
      "|    0.0    |  0.0   | 0.0 |\n",
      "+-----------+--------+-----+ \n",
      "\n",
      "\n",
      "heart_failure\n",
      "+--------------+-----------------+---------------+----------------+\n",
      "| total number | correct predict | wrong predict | not in predict |\n",
      "+--------------+-----------------+---------------+----------------+\n",
      "|      2       |        0        |       2       |       0        |\n",
      "+--------------+-----------------+---------------+----------------+\n",
      "+-----------+--------+-----+\n",
      "| precision | recall |  F1 |\n",
      "+-----------+--------+-----+\n",
      "|    0.0    |  0.0   | 0.0 |\n",
      "+-----------+--------+-----+ \n",
      "\n",
      "\n",
      "type_1_diabetes\n",
      "+--------------+-----------------+---------------+----------------+\n",
      "| total number | correct predict | wrong predict | not in predict |\n",
      "+--------------+-----------------+---------------+----------------+\n",
      "|      4       |        0        |       3       |       1        |\n",
      "+--------------+-----------------+---------------+----------------+\n",
      "+-----------+--------+-----+\n",
      "| precision | recall |  F1 |\n",
      "+-----------+--------+-----+\n",
      "|    0.0    |  0.0   | 0.0 |\n",
      "+-----------+--------+-----+ \n",
      "\n",
      "\n",
      "asthma\n",
      "+--------------+-----------------+---------------+----------------+\n",
      "| total number | correct predict | wrong predict | not in predict |\n",
      "+--------------+-----------------+---------------+----------------+\n",
      "|      2       |        0        |       1       |       1        |\n",
      "+--------------+-----------------+---------------+----------------+\n",
      "+-----------+--------+-----+\n",
      "| precision | recall |  F1 |\n",
      "+-----------+--------+-----+\n",
      "|    0.0    |  0.0   | 0.0 |\n",
      "+-----------+--------+-----+ \n",
      "\n",
      "\n",
      "chronic_lung_diseases\n",
      "+--------------+-----------------+---------------+----------------+\n",
      "| total number | correct predict | wrong predict | not in predict |\n",
      "+--------------+-----------------+---------------+----------------+\n",
      "|      6       |        0        |       5       |       1        |\n",
      "+--------------+-----------------+---------------+----------------+\n",
      "+-----------+--------+-----+\n",
      "| precision | recall |  F1 |\n",
      "+-----------+--------+-----+\n",
      "|    0.0    |  0.0   | 0.0 |\n",
      "+-----------+--------+-----+ \n",
      "\n",
      "\n",
      "high_blood_pressure\n",
      "+--------------+-----------------+---------------+----------------+\n",
      "| total number | correct predict | wrong predict | not in predict |\n",
      "+--------------+-----------------+---------------+----------------+\n",
      "|      3       |        0        |       3       |       0        |\n",
      "+--------------+-----------------+---------------+----------------+\n",
      "+-----------+--------+-----+\n",
      "| precision | recall |  F1 |\n",
      "+-----------+--------+-----+\n",
      "|    0.0    |  0.0   | 0.0 |\n",
      "+-----------+--------+-----+ \n",
      "\n",
      "\n",
      "recent_travel\n",
      "+--------------+-----------------+---------------+----------------+\n",
      "| total number | correct predict | wrong predict | not in predict |\n",
      "+--------------+-----------------+---------------+----------------+\n",
      "|      3       |        0        |       2       |       1        |\n",
      "+--------------+-----------------+---------------+----------------+\n",
      "+-----------+--------+-----+\n",
      "| precision | recall |  F1 |\n",
      "+-----------+--------+-----+\n",
      "|    0.0    |  0.0   | 0.0 |\n",
      "+-----------+--------+-----+ \n",
      "\n",
      "\n",
      "contact_with_infestor\n",
      "+--------------+-----------------+---------------+----------------+\n",
      "| total number | correct predict | wrong predict | not in predict |\n",
      "+--------------+-----------------+---------------+----------------+\n",
      "|      8       |        0        |       5       |       3        |\n",
      "+--------------+-----------------+---------------+----------------+\n",
      "+-----------+--------+-----+\n",
      "| precision | recall |  F1 |\n",
      "+-----------+--------+-----+\n",
      "|    0.0    |  0.0   | 0.0 |\n",
      "+-----------+--------+-----+ \n",
      "\n",
      "\n",
      "mass_gathering\n",
      "+--------------+-----------------+---------------+----------------+\n",
      "| total number | correct predict | wrong predict | not in predict |\n",
      "+--------------+-----------------+---------------+----------------+\n",
      "|      2       |        0        |       2       |       0        |\n",
      "+--------------+-----------------+---------------+----------------+\n",
      "+-----------+--------+-----+\n",
      "| precision | recall |  F1 |\n",
      "+-----------+--------+-----+\n",
      "|    0.0    |  0.0   | 0.0 |\n",
      "+-----------+--------+-----+ \n",
      "\n",
      "\n"
     ]
    }
   ],
   "source": [
    "for s in slots:\n",
    "    print(s)\n",
    "    table = PrettyTable()\n",
    "    table.field_names = ['total number','correct predict','wrong predict','not in predict']\n",
    "    table.add_row([count[s][0],str(count[s][1])[:5],str(count[s][2])[:5],str(count[s][3])[:5]])\n",
    "    print(table,)\n",
    "    \n",
    "    table = PrettyTable()\n",
    "    table.field_names = ['precision','recall','F1']\n",
    "    table.add_row([str(metrics[s][0])[:5],str(metrics[s][1])[:5],str(metrics[s][2])[:5]])\n",
    "    print(table,'\\n\\n')"
   ]
  },
  {
   "cell_type": "code",
   "execution_count": null,
   "metadata": {},
   "outputs": [],
   "source": []
  },
  {
   "cell_type": "code",
   "execution_count": null,
   "metadata": {},
   "outputs": [],
   "source": []
  },
  {
   "cell_type": "code",
   "execution_count": null,
   "metadata": {},
   "outputs": [],
   "source": []
  },
  {
   "cell_type": "code",
   "execution_count": null,
   "metadata": {},
   "outputs": [],
   "source": []
  },
  {
   "cell_type": "code",
   "execution_count": null,
   "metadata": {},
   "outputs": [],
   "source": []
  }
 ],
 "metadata": {
  "kernelspec": {
   "display_name": "Julia 1.3.1",
   "language": "julia",
   "name": "julia-1.3"
  },
  "language_info": {
   "codemirror_mode": {
    "name": "ipython",
    "version": 3
   },
   "file_extension": ".py",
   "mimetype": "text/x-python",
   "name": "python",
   "nbconvert_exporter": "python",
   "pygments_lexer": "ipython3",
   "version": "3.8.5"
  }
 },
 "nbformat": 4,
 "nbformat_minor": 4
}
