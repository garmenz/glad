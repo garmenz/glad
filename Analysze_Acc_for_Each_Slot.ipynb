{
 "cells": [
  {
   "attachments": {
    "image.png": {
     "image/png": "[encoded data removed]"
    }
   },
   "cell_type": "markdown",
   "metadata": {},
   "source": [
    "# Analyze the occurances and accuracy for each slot\n",
    "* Preparation: generate test.pred.json using evaluation.py\n",
    "* Input: test.pred.json and dataset['test'] \n",
    "* Output: Occurances and accuracy for each slot, here's an example\n",
    "![image.png](attachment:image.png)"
   ]
  },
  {
   "cell_type": "code",
   "execution_count": null,
   "metadata": {},
   "outputs": [],
   "source": [
    "import json\n",
    "tst_pred = json.load(open('exp/glad/default/test.pred.json'))"
   ]
  },
  {
   "cell_type": "code",
   "execution_count": null,
   "metadata": {},
   "outputs": [],
   "source": [
    "import dataset\n",
    "from utils import load_dataset, get_models, load_model\n",
    "dataset, ontology, vocab, Eword = load_dataset()\n",
    "dev = dataset['dev']\n",
    "train = dataset['train']\n",
    "test = dataset['test']"
   ]
  },
  {
   "cell_type": "code",
   "execution_count": null,
   "metadata": {},
   "outputs": [],
   "source": [
    "# count occurances and accuracy\n",
    "import numpy as np\n",
    "slot_accuracy_dev = dict(zip(ontology.slots, [np.array([[0]*3]*2)]*len(ontology.slots)))\n",
    "for p_diag, v_diag in zip(tst_pred['dialogues'], test.dialogues):\n",
    "    for p_turn, v_turn in zip(p_diag['turns'], v_diag.turns):\n",
    "        p_labels = p_turn['pred']\n",
    "        v_labels = v_turn.turn_label\n",
    "    \n",
    "        p_state = {}\n",
    "        v_state = {}\n",
    "        for p, v in p_labels:\n",
    "            p_state[p] = v\n",
    "        for p, v in v_labels:\n",
    "            v_state[p] = v\n",
    "\n",
    "        for slot in ontology.slots:\n",
    "            if slot not in p_state.keys() and slot not in v_state.keys():\n",
    "                temp = np.array([[0]*3]*2)\n",
    "                temp = temp + slot_accuracy_dev.get(slot)\n",
    "                temp[0][0] += 1\n",
    "                slot_accuracy_dev[slot] = temp\n",
    "            elif slot not in v_state.keys() and slot in p_state.keys():\n",
    "                temp = np.array([[0]*3]*2)\n",
    "                temp = temp + slot_accuracy_dev.get(slot)\n",
    "                temp[0][1] += 1\n",
    "                slot_accuracy_dev[slot] = temp\n",
    "            elif slot in v_state.keys() and slot not in p_state.keys():\n",
    "                temp = np.array([[0]*3]*2)\n",
    "                temp = temp + slot_accuracy_dev.get(slot)\n",
    "                temp[1][0] += 1\n",
    "                slot_accuracy_dev[slot] = temp\n",
    "            elif slot in v_state.keys() and slot in p_state.keys():\n",
    "                temp = np.array([[0]*3]*2)\n",
    "                temp = temp + slot_accuracy_dev.get(slot)\n",
    "                temp[1][1] += 1\n",
    "                slot_accuracy_dev[slot] = temp\n",
    "                if v_state[slot]==p_state[slot]:\n",
    "                    temp = np.array([[0]*3]*2)\n",
    "                    temp = temp + slot_accuracy_dev.get(slot)\n",
    "                    temp[1][2] += 1\n",
    "                    slot_accuracy_dev[slot] = temp\n",
    "                "
   ]
  },
  {
   "cell_type": "code",
   "execution_count": null,
   "metadata": {},
   "outputs": [],
   "source": [
    "for slot in slot_accuracy_dev:\n",
    "    slot_accuracy_dev[slot] = slot_accuracy_dev[slot].tolist()\n",
    "with open('slot_accuracy_dev.json', 'wt') as f:\n",
    "    json.dump(slot_accuracy_dev, f)"
   ]
  },
  {
   "cell_type": "code",
   "execution_count": null,
   "metadata": {},
   "outputs": [],
   "source": [
    "# output the result\n",
    "import json\n",
    "from prettytable import PrettyTable\n",
    "\n",
    "with open('slot_accuracy_dev.json') as f:\n",
    "    dev = json.load(f)\n",
    "\n",
    "for slot, value in dev.items():\n",
    "    print(f'slot: {slot:10}')\n",
    "    t = PrettyTable()\n",
    "    t.field_names = ['', 'not in pred', 'in pred', 'correct pred']\n",
    "    t.add_row(['not in label', value[0][0], value[0][1], '-'])\n",
    "    t.add_row(['in lable', value[1][0], value[1][1], value[1][2]])\n",
    "    print(t)\n",
    "    print()\n"
   ]
  }
 ],
 "metadata": {
  "kernelspec": {
   "display_name": "Python 3",
   "language": "python",
   "name": "python3"
  },
  "language_info": {
   "codemirror_mode": {
    "name": "ipython",
    "version": 3
   },
   "file_extension": ".py",
   "mimetype": "text/x-python",
   "name": "python",
   "nbconvert_exporter": "python",
   "pygments_lexer": "ipython3",
   "version": "3.7.6"
  }
 },
 "nbformat": 4,
 "nbformat_minor": 4
}
