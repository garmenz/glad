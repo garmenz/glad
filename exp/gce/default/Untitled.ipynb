{
 "cells": [
  {
   "cell_type": "code",
   "execution_count": 1,
   "metadata": {},
   "outputs": [],
   "source": [
    "import json\n",
    "from prettytable import PrettyTable"
   ]
  },
  {
   "cell_type": "code",
   "execution_count": 29,
   "metadata": {},
   "outputs": [],
   "source": [
    "woz_path = \"../../../data/woz/train.json\"\n",
    "with open(woz_path, \"rb\") as f:\n",
    "    woz = json.load(f)"
   ]
  },
  {
   "cell_type": "code",
   "execution_count": 36,
   "metadata": {},
   "outputs": [
    {
     "data": {
      "text/plain": [
       "{'turns': [{'system_acts': [],\n",
       "   'system_transcript': '',\n",
       "   'num': {'system_acts': [[0, 16, 1]],\n",
       "    'transcript': [0, 106, 48, 120, 301, 141, 9, 14, 33, 1]},\n",
       "   'belief_state': [{'slots': [['food', 'eritrean']], 'act': 'inform'}],\n",
       "   'turn_id': 0,\n",
       "   'transcript': ['Are',\n",
       "    'there',\n",
       "    'any',\n",
       "    'eritrean',\n",
       "    'restaurants',\n",
       "    'in',\n",
       "    'town',\n",
       "    '?'],\n",
       "   'turn_label': [['food', 'eritrean']]},\n",
       "  {'system_acts': [],\n",
       "   'system_transcript': 'No, there are no eritrean restaurants in town. Would you like a different restaurant? ',\n",
       "   'num': {'system_acts': [[0, 16, 1]],\n",
       "    'transcript': [0, 79, 90, 94, 62, 33, 1]},\n",
       "   'belief_state': [{'slots': [['food', 'chinese']], 'act': 'inform'}],\n",
       "   'turn_id': 1,\n",
       "   'transcript': ['How', 'about', 'Chinese', 'food', '?'],\n",
       "   'turn_label': [['food', 'chinese']]},\n",
       "  {'system_acts': [['request', 'area']],\n",
       "   'system_transcript': 'There is a wide variety of Chinese restaurants, do you have an area preference or a price preference to narrow it down?',\n",
       "   'num': {'system_acts': [[0, 55, 56, 1], [0, 16, 1]],\n",
       "    'transcript': [0, 2, 98, 59, 10, 142, 12, 13, 14, 15, 1]},\n",
       "   'belief_state': [{'slots': [['food', 'chinese']], 'act': 'inform'},\n",
       "    {'slots': [['area', 'east']], 'act': 'inform'}],\n",
       "   'turn_id': 2,\n",
       "   'transcript': ['I',\n",
       "    'would',\n",
       "    'like',\n",
       "    'the',\n",
       "    'East',\n",
       "    'part',\n",
       "    'of',\n",
       "    'town',\n",
       "    '.'],\n",
       "   'turn_label': [['area', 'east']]},\n",
       "  {'system_acts': [],\n",
       "   'system_transcript': 'Yu Garden is a chinese restaurant in the east area.',\n",
       "   'num': {'system_acts': [[0, 16, 1]],\n",
       "    'transcript': [0,\n",
       "     145,\n",
       "     2,\n",
       "     27,\n",
       "     10,\n",
       "     28,\n",
       "     18,\n",
       "     29,\n",
       "     30,\n",
       "     18,\n",
       "     25,\n",
       "     156,\n",
       "     13,\n",
       "     373,\n",
       "     374,\n",
       "     33,\n",
       "     1]},\n",
       "   'belief_state': [{'slots': [['slot', 'postcode']], 'act': 'request'},\n",
       "    {'slots': [['slot', 'phone']], 'act': 'request'},\n",
       "    {'slots': [['slot', 'address']], 'act': 'request'},\n",
       "    {'slots': [['food', 'chinese']], 'act': 'inform'},\n",
       "    {'slots': [['area', 'east']], 'act': 'inform'}],\n",
       "   'turn_id': 3,\n",
       "   'transcript': ['Could',\n",
       "    'I',\n",
       "    'get',\n",
       "    'the',\n",
       "    'address',\n",
       "    ',',\n",
       "    'phone',\n",
       "    'number',\n",
       "    ',',\n",
       "    'and',\n",
       "    'postcode',\n",
       "    'of',\n",
       "    'Yu',\n",
       "    'Garden',\n",
       "    '?'],\n",
       "   'turn_label': [['request', 'postcode'],\n",
       "    ['request', 'phone'],\n",
       "    ['request', 'address']]},\n",
       "  {'system_acts': [],\n",
       "   'system_transcript': 'Phone is 01223 248882, address and postcode are 529 Newmarket Road Fen Ditton C.B 5, 8 P.A',\n",
       "   'num': {'system_acts': [[0, 16, 1]],\n",
       "    'transcript': [0,\n",
       "     34,\n",
       "     35,\n",
       "     15,\n",
       "     24,\n",
       "     20,\n",
       "     70,\n",
       "     10,\n",
       "     71,\n",
       "     2,\n",
       "     72,\n",
       "     15,\n",
       "     162,\n",
       "     162,\n",
       "     74,\n",
       "     1]},\n",
       "   'belief_state': [{'slots': [['food', 'chinese']], 'act': 'inform'},\n",
       "    {'slots': [['area', 'east']], 'act': 'inform'}],\n",
       "   'turn_id': 4,\n",
       "   'transcript': ['Thank',\n",
       "    'you',\n",
       "    '.',\n",
       "    'That',\n",
       "    'is',\n",
       "    'all',\n",
       "    'the',\n",
       "    'information',\n",
       "    'I',\n",
       "    'needed',\n",
       "    '.',\n",
       "    'Bye',\n",
       "    'bye',\n",
       "    '!'],\n",
       "   'turn_label': []}],\n",
       " 'dialogue_id': 0}"
      ]
     },
     "execution_count": 36,
     "metadata": {},
     "output_type": "execute_result"
    }
   ],
   "source": [
    "woz['dialogues'][0]"
   ]
  },
  {
   "cell_type": "code",
   "execution_count": 16,
   "metadata": {},
   "outputs": [],
   "source": [
    "pred_path = \"./test.pred.json\"\n",
    "ans_path = \"../../../data/covid/ann/test.json\"\n",
    "ana_path = \"../../../data/covid/ontology.json\""
   ]
  },
  {
   "cell_type": "code",
   "execution_count": 17,
   "metadata": {},
   "outputs": [],
   "source": [
    "with open(pred_path, \"rb\") as f:\n",
    "    pred = json.load(f)\n",
    "with open(ans_path, \"rb\") as f:\n",
    "    ans = json.load(f)\n",
    "with open(ana_path, \"rb\") as f:\n",
    "    ana = json.load(f)"
   ]
  },
  {
   "cell_type": "code",
   "execution_count": 18,
   "metadata": {},
   "outputs": [],
   "source": [
    "for a in ans['dialogues']:\n",
    "    if a['dialogue_index'] == 120:\n",
    "        print(a['turns'][0]['turn_label'])\n",
    "for a in pred['dialogues']:\n",
    "    if a['dialogue_index'] == 120:\n",
    "        print(a['turns'][0]['pred'])"
   ]
  },
  {
   "cell_type": "code",
   "execution_count": 19,
   "metadata": {},
   "outputs": [
    {
     "data": {
      "text/plain": [
       "[]"
      ]
     },
     "execution_count": 19,
     "metadata": {},
     "output_type": "execute_result"
    }
   ],
   "source": [
    "a['turns'][0][\"pred\"]"
   ]
  },
  {
   "cell_type": "code",
   "execution_count": 20,
   "metadata": {},
   "outputs": [
    {
     "data": {
      "text/plain": [
       "dict_keys(['dialogues'])"
      ]
     },
     "execution_count": 20,
     "metadata": {},
     "output_type": "execute_result"
    }
   ],
   "source": [
    "pred.keys()"
   ]
  },
  {
   "cell_type": "code",
   "execution_count": 21,
   "metadata": {},
   "outputs": [
    {
     "data": {
      "text/plain": [
       "60"
      ]
     },
     "execution_count": 21,
     "metadata": {},
     "output_type": "execute_result"
    }
   ],
   "source": [
    "len(pred['dialogues'])"
   ]
  },
  {
   "cell_type": "code",
   "execution_count": 22,
   "metadata": {},
   "outputs": [
    {
     "data": {
      "text/plain": [
       "60"
      ]
     },
     "execution_count": 22,
     "metadata": {},
     "output_type": "execute_result"
    }
   ],
   "source": [
    "len(ans['dialogues'])"
   ]
  },
  {
   "cell_type": "code",
   "execution_count": 23,
   "metadata": {},
   "outputs": [
    {
     "data": {
      "text/plain": [
       "['fever',\n",
       " 'cough',\n",
       " 'phlegm',\n",
       " 'tiredness',\n",
       " 'breath_difficulty',\n",
       " 'muscle_aches',\n",
       " 'chills',\n",
       " 'sore_throat',\n",
       " 'runny_nose',\n",
       " 'headache',\n",
       " 'chest_pain',\n",
       " 'nausea',\n",
       " 'vomiting',\n",
       " 'diarrhea',\n",
       " 'unwell_duration',\n",
       " 'age',\n",
       " 'smoking',\n",
       " 'heart_failure',\n",
       " 'type_1_diabetes',\n",
       " 'asthma',\n",
       " 'chronic_lung_diseases',\n",
       " 'high_blood_pressure',\n",
       " 'recent_travel',\n",
       " 'contact_with_infestor',\n",
       " 'mass_gathering']"
      ]
     },
     "execution_count": 23,
     "metadata": {},
     "output_type": "execute_result"
    }
   ],
   "source": [
    "slots = ana['slots']\n",
    "slots"
   ]
  },
  {
   "cell_type": "code",
   "execution_count": 24,
   "metadata": {},
   "outputs": [
    {
     "data": {
      "text/plain": [
       "[]"
      ]
     },
     "execution_count": 24,
     "metadata": {},
     "output_type": "execute_result"
    }
   ],
   "source": [
    "ans['dialogues'][0][\"turns\"][0]['turn_label']"
   ]
  },
  {
   "cell_type": "code",
   "execution_count": 25,
   "metadata": {},
   "outputs": [
    {
     "data": {
      "text/plain": [
       "[]"
      ]
     },
     "execution_count": 25,
     "metadata": {},
     "output_type": "execute_result"
    }
   ],
   "source": [
    "pred['dialogues'][0][\"turns\"][0]['pred']"
   ]
  },
  {
   "cell_type": "code",
   "execution_count": 26,
   "metadata": {},
   "outputs": [
    {
     "data": {
      "text/plain": [
       "{'headache', 'yes', 'yyyes'}"
      ]
     },
     "execution_count": 26,
     "metadata": {},
     "output_type": "execute_result"
    }
   ],
   "source": [
    "l1 = ['headache', 'yes']\n",
    "l2 = ['headache', 'yyyes']\n",
    "set(l1).union(set(l2))"
   ]
  },
  {
   "cell_type": "code",
   "execution_count": 27,
   "metadata": {},
   "outputs": [
    {
     "name": "stdout",
     "output_type": "stream",
     "text": [
      "defaultdict(<class 'int'>, {'fever': [6, 0, 6, 0], 'cough': [16, 9, 3, 4], 'phlegm': [4, 0, 4, 0], 'tiredness': [5, 1, 4, 0], 'breath_difficulty': [6, 1, 4, 1], 'muscle_aches': [7, 0, 7, 0], 'chills': [3, 0, 3, 0], 'sore_throat': [12, 7, 2, 3], 'runny_nose': [3, 2, 1, 0], 'headache': [7, 4, 2, 1], 'chest_pain': [2, 0, 1, 1], 'nausea': [4, 2, 2, 0], 'vomiting': [1, 1, 0, 0], 'diarrhea': [3, 2, 0, 1], 'unwell_duration': [3, 0, 2, 1], 'age': [4, 0, 4, 0], 'smoking': [2, 0, 1, 1], 'heart_failure': [2, 0, 2, 0], 'type_1_diabetes': [4, 0, 3, 1], 'asthma': [2, 0, 1, 1], 'chronic_lung_diseases': [5, 0, 5, 0], 'high_blood_pressure': [3, 0, 3, 0], 'recent_travel': [2, 0, 2, 0], 'contact_with_infestor': [5, 1, 4, 0], 'mass_gathering': [2, 0, 2, 0]})\n"
     ]
    }
   ],
   "source": [
    "from collections import defaultdict\n",
    "count = defaultdict(int)\n",
    "for key in ana['slots']:\n",
    "    count[key] = [0,0,0,0] # ans num, correct pred TP, wrong pred FN, not in pred FP\n",
    "    \n",
    "for i in range(len(pred['dialogues'])):\n",
    "    p = pred['dialogues'][i][\"turns\"][0]['pred']\n",
    "    p_d = {}\n",
    "    for p_single in p:\n",
    "        p_d[p_single[0]] = p_single[1]\n",
    "    a = ans['dialogues'][i][\"turns\"][0]['turn_label']\n",
    "    a_d = {}\n",
    "    for a_single in a:\n",
    "        a_d[a_single[0]] = a_single[1]\n",
    "        \n",
    "    l1 = a_d.keys()\n",
    "    l2 = p_d.keys()\n",
    "    \n",
    "    keys = set(l1).union(set(l2)) # keys in p_d\n",
    "    \n",
    "    \n",
    "    for aa in keys:\n",
    "        try:\n",
    "            count[aa][0] += 1\n",
    "        except:\n",
    "            print(aa, 'not in dict')\n",
    "        if aa in a_d and aa not in p_d: # not in pred FP\n",
    "            count[aa][2] += 1\n",
    "        elif (aa in p_d and aa not in a_d) or p_d[aa] != a_d[aa]: # wrong pred FN\n",
    "            count[aa][3] += 1\n",
    "        elif p_d[aa] == a_d[aa]: # correct # TP\n",
    "            count[aa][1] += 1\n",
    "print(count)"
   ]
  },
  {
   "cell_type": "code",
   "execution_count": 28,
   "metadata": {},
   "outputs": [
    {
     "name": "stdout",
     "output_type": "stream",
     "text": [
      "[0.0, 0.0, 0.0]\n",
      "[0.6923076923076923, 0.75, 0.7199999999999999]\n",
      "[0.0, 0.0, 0.0]\n",
      "[1.0, 0.2, 0.33333333333333337]\n",
      "[0.5, 0.2, 0.28571428571428575]\n",
      "[0.0, 0.0, 0.0]\n",
      "[0.0, 0.0, 0.0]\n",
      "[0.7, 0.7777777777777778, 0.7368421052631577]\n",
      "[1.0, 0.6666666666666666, 0.8]\n",
      "[0.8, 0.6666666666666666, 0.7272727272727272]\n",
      "[0.0, 0.0, 0.0]\n",
      "[1.0, 0.5, 0.6666666666666666]\n",
      "[1.0, 1.0, 1.0]\n",
      "[0.6666666666666666, 1.0, 0.8]\n",
      "[0.0, 0.0, 0.0]\n",
      "[0.0, 0.0, 0.0]\n",
      "[0.0, 0.0, 0.0]\n",
      "[0.0, 0.0, 0.0]\n",
      "[0.0, 0.0, 0.0]\n",
      "[0.0, 0.0, 0.0]\n",
      "[0.0, 0.0, 0.0]\n",
      "[0.0, 0.0, 0.0]\n",
      "[0.0, 0.0, 0.0]\n",
      "[1.0, 0.2, 0.33333333333333337]\n",
      "[0.0, 0.0, 0.0]\n"
     ]
    }
   ],
   "source": [
    "metrics = defaultdict(int)\n",
    "slots = ana['slots']\n",
    "for s in slots:\n",
    "    metrics[s] = []\n",
    "    if count[s][1] + count[s][3]:\n",
    "        metrics[s].append(count[s][1]/(count[s][1] + count[s][3])) # precision\n",
    "    else:\n",
    "        metrics[s].append(0.0)\n",
    "        \n",
    "    if count[s][1] + count[s][2]:\n",
    "        metrics[s].append(count[s][1]/(count[s][1] + count[s][2])) # recall\n",
    "    else:\n",
    "        metrics[s].append(0.0)\n",
    "        \n",
    "    if metrics[s] != [0,0]:\n",
    "        metrics[s].append(2*metrics[s][0]*metrics[s][1] / (metrics[s][0] + metrics[s][1]))\n",
    "    else:\n",
    "        metrics[s].append(0.0)\n",
    "    print(metrics[s])"
   ]
  },
  {
   "cell_type": "code",
   "execution_count": 15,
   "metadata": {},
   "outputs": [
    {
     "name": "stdout",
     "output_type": "stream",
     "text": [
      "fever\n",
      "+--------------+-----------------+---------------+----------------+\n",
      "| total number | correct predict | wrong predict | not in predict |\n",
      "+--------------+-----------------+---------------+----------------+\n",
      "|      6       |        0        |       6       |       0        |\n",
      "+--------------+-----------------+---------------+----------------+\n",
      "+-----------+--------+-----+\n",
      "| precision | recall |  F1 |\n",
      "+-----------+--------+-----+\n",
      "|    0.0    |  0.0   | 0.0 |\n",
      "+-----------+--------+-----+ \n",
      "\n",
      "\n",
      "cough\n",
      "+--------------+-----------------+---------------+----------------+\n",
      "| total number | correct predict | wrong predict | not in predict |\n",
      "+--------------+-----------------+---------------+----------------+\n",
      "|      16      |        9        |       3       |       4        |\n",
      "+--------------+-----------------+---------------+----------------+\n",
      "+-----------+--------+-------+\n",
      "| precision | recall |   F1  |\n",
      "+-----------+--------+-------+\n",
      "|   0.692   |  0.75  | 0.719 |\n",
      "+-----------+--------+-------+ \n",
      "\n",
      "\n",
      "phlegm\n",
      "+--------------+-----------------+---------------+----------------+\n",
      "| total number | correct predict | wrong predict | not in predict |\n",
      "+--------------+-----------------+---------------+----------------+\n",
      "|      4       |        0        |       4       |       0        |\n",
      "+--------------+-----------------+---------------+----------------+\n",
      "+-----------+--------+-----+\n",
      "| precision | recall |  F1 |\n",
      "+-----------+--------+-----+\n",
      "|    0.0    |  0.0   | 0.0 |\n",
      "+-----------+--------+-----+ \n",
      "\n",
      "\n",
      "tiredness\n",
      "+--------------+-----------------+---------------+----------------+\n",
      "| total number | correct predict | wrong predict | not in predict |\n",
      "+--------------+-----------------+---------------+----------------+\n",
      "|      5       |        1        |       4       |       0        |\n",
      "+--------------+-----------------+---------------+----------------+\n",
      "+-----------+--------+-------+\n",
      "| precision | recall |   F1  |\n",
      "+-----------+--------+-------+\n",
      "|    1.0    |  0.2   | 0.333 |\n",
      "+-----------+--------+-------+ \n",
      "\n",
      "\n",
      "breath_difficulty\n",
      "+--------------+-----------------+---------------+----------------+\n",
      "| total number | correct predict | wrong predict | not in predict |\n",
      "+--------------+-----------------+---------------+----------------+\n",
      "|      6       |        1        |       4       |       1        |\n",
      "+--------------+-----------------+---------------+----------------+\n",
      "+-----------+--------+-------+\n",
      "| precision | recall |   F1  |\n",
      "+-----------+--------+-------+\n",
      "|    0.5    |  0.2   | 0.285 |\n",
      "+-----------+--------+-------+ \n",
      "\n",
      "\n",
      "muscle_aches\n",
      "+--------------+-----------------+---------------+----------------+\n",
      "| total number | correct predict | wrong predict | not in predict |\n",
      "+--------------+-----------------+---------------+----------------+\n",
      "|      7       |        0        |       7       |       0        |\n",
      "+--------------+-----------------+---------------+----------------+\n",
      "+-----------+--------+-----+\n",
      "| precision | recall |  F1 |\n",
      "+-----------+--------+-----+\n",
      "|    0.0    |  0.0   | 0.0 |\n",
      "+-----------+--------+-----+ \n",
      "\n",
      "\n",
      "chills\n",
      "+--------------+-----------------+---------------+----------------+\n",
      "| total number | correct predict | wrong predict | not in predict |\n",
      "+--------------+-----------------+---------------+----------------+\n",
      "|      3       |        0        |       3       |       0        |\n",
      "+--------------+-----------------+---------------+----------------+\n",
      "+-----------+--------+-----+\n",
      "| precision | recall |  F1 |\n",
      "+-----------+--------+-----+\n",
      "|    0.0    |  0.0   | 0.0 |\n",
      "+-----------+--------+-----+ \n",
      "\n",
      "\n",
      "sore_throat\n",
      "+--------------+-----------------+---------------+----------------+\n",
      "| total number | correct predict | wrong predict | not in predict |\n",
      "+--------------+-----------------+---------------+----------------+\n",
      "|      12      |        7        |       2       |       3        |\n",
      "+--------------+-----------------+---------------+----------------+\n",
      "+-----------+--------+-------+\n",
      "| precision | recall |   F1  |\n",
      "+-----------+--------+-------+\n",
      "|    0.7    | 0.777  | 0.736 |\n",
      "+-----------+--------+-------+ \n",
      "\n",
      "\n",
      "runny_nose\n",
      "+--------------+-----------------+---------------+----------------+\n",
      "| total number | correct predict | wrong predict | not in predict |\n",
      "+--------------+-----------------+---------------+----------------+\n",
      "|      3       |        2        |       1       |       0        |\n",
      "+--------------+-----------------+---------------+----------------+\n",
      "+-----------+--------+-----+\n",
      "| precision | recall |  F1 |\n",
      "+-----------+--------+-----+\n",
      "|    1.0    | 0.666  | 0.8 |\n",
      "+-----------+--------+-----+ \n",
      "\n",
      "\n",
      "headache\n",
      "+--------------+-----------------+---------------+----------------+\n",
      "| total number | correct predict | wrong predict | not in predict |\n",
      "+--------------+-----------------+---------------+----------------+\n",
      "|      7       |        4        |       2       |       1        |\n",
      "+--------------+-----------------+---------------+----------------+\n",
      "+-----------+--------+-------+\n",
      "| precision | recall |   F1  |\n",
      "+-----------+--------+-------+\n",
      "|    0.8    | 0.666  | 0.727 |\n",
      "+-----------+--------+-------+ \n",
      "\n",
      "\n",
      "chest_pain\n",
      "+--------------+-----------------+---------------+----------------+\n",
      "| total number | correct predict | wrong predict | not in predict |\n",
      "+--------------+-----------------+---------------+----------------+\n",
      "|      2       |        0        |       1       |       1        |\n",
      "+--------------+-----------------+---------------+----------------+\n",
      "+-----------+--------+-----+\n",
      "| precision | recall |  F1 |\n",
      "+-----------+--------+-----+\n",
      "|    0.0    |  0.0   | 0.0 |\n",
      "+-----------+--------+-----+ \n",
      "\n",
      "\n",
      "nausea\n",
      "+--------------+-----------------+---------------+----------------+\n",
      "| total number | correct predict | wrong predict | not in predict |\n",
      "+--------------+-----------------+---------------+----------------+\n",
      "|      4       |        2        |       2       |       0        |\n",
      "+--------------+-----------------+---------------+----------------+\n",
      "+-----------+--------+-------+\n",
      "| precision | recall |   F1  |\n",
      "+-----------+--------+-------+\n",
      "|    1.0    |  0.5   | 0.666 |\n",
      "+-----------+--------+-------+ \n",
      "\n",
      "\n",
      "vomiting\n",
      "+--------------+-----------------+---------------+----------------+\n",
      "| total number | correct predict | wrong predict | not in predict |\n",
      "+--------------+-----------------+---------------+----------------+\n",
      "|      1       |        1        |       0       |       0        |\n",
      "+--------------+-----------------+---------------+----------------+\n",
      "+-----------+--------+-----+\n",
      "| precision | recall |  F1 |\n",
      "+-----------+--------+-----+\n",
      "|    1.0    |  1.0   | 1.0 |\n",
      "+-----------+--------+-----+ \n",
      "\n",
      "\n",
      "diarrhea\n",
      "+--------------+-----------------+---------------+----------------+\n",
      "| total number | correct predict | wrong predict | not in predict |\n",
      "+--------------+-----------------+---------------+----------------+\n",
      "|      3       |        2        |       0       |       1        |\n",
      "+--------------+-----------------+---------------+----------------+\n",
      "+-----------+--------+-----+\n",
      "| precision | recall |  F1 |\n",
      "+-----------+--------+-----+\n",
      "|   0.666   |  1.0   | 0.8 |\n",
      "+-----------+--------+-----+ \n",
      "\n",
      "\n",
      "unwell_duration\n",
      "+--------------+-----------------+---------------+----------------+\n",
      "| total number | correct predict | wrong predict | not in predict |\n",
      "+--------------+-----------------+---------------+----------------+\n",
      "|      3       |        0        |       2       |       1        |\n",
      "+--------------+-----------------+---------------+----------------+\n",
      "+-----------+--------+-----+\n",
      "| precision | recall |  F1 |\n",
      "+-----------+--------+-----+\n",
      "|    0.0    |  0.0   | 0.0 |\n",
      "+-----------+--------+-----+ \n",
      "\n",
      "\n",
      "age\n",
      "+--------------+-----------------+---------------+----------------+\n",
      "| total number | correct predict | wrong predict | not in predict |\n",
      "+--------------+-----------------+---------------+----------------+\n",
      "|      4       |        0        |       4       |       0        |\n",
      "+--------------+-----------------+---------------+----------------+\n",
      "+-----------+--------+-----+\n",
      "| precision | recall |  F1 |\n",
      "+-----------+--------+-----+\n",
      "|    0.0    |  0.0   | 0.0 |\n",
      "+-----------+--------+-----+ \n",
      "\n",
      "\n",
      "smoking\n",
      "+--------------+-----------------+---------------+----------------+\n",
      "| total number | correct predict | wrong predict | not in predict |\n",
      "+--------------+-----------------+---------------+----------------+\n",
      "|      2       |        0        |       1       |       1        |\n",
      "+--------------+-----------------+---------------+----------------+\n",
      "+-----------+--------+-----+\n",
      "| precision | recall |  F1 |\n",
      "+-----------+--------+-----+\n",
      "|    0.0    |  0.0   | 0.0 |\n",
      "+-----------+--------+-----+ \n",
      "\n",
      "\n",
      "heart_failure\n",
      "+--------------+-----------------+---------------+----------------+\n",
      "| total number | correct predict | wrong predict | not in predict |\n",
      "+--------------+-----------------+---------------+----------------+\n",
      "|      2       |        0        |       2       |       0        |\n",
      "+--------------+-----------------+---------------+----------------+\n",
      "+-----------+--------+-----+\n",
      "| precision | recall |  F1 |\n",
      "+-----------+--------+-----+\n",
      "|    0.0    |  0.0   | 0.0 |\n",
      "+-----------+--------+-----+ \n",
      "\n",
      "\n",
      "type_1_diabetes\n",
      "+--------------+-----------------+---------------+----------------+\n",
      "| total number | correct predict | wrong predict | not in predict |\n",
      "+--------------+-----------------+---------------+----------------+\n",
      "|      4       |        0        |       3       |       1        |\n",
      "+--------------+-----------------+---------------+----------------+\n",
      "+-----------+--------+-----+\n",
      "| precision | recall |  F1 |\n",
      "+-----------+--------+-----+\n",
      "|    0.0    |  0.0   | 0.0 |\n",
      "+-----------+--------+-----+ \n",
      "\n",
      "\n",
      "asthma\n",
      "+--------------+-----------------+---------------+----------------+\n",
      "| total number | correct predict | wrong predict | not in predict |\n",
      "+--------------+-----------------+---------------+----------------+\n",
      "|      2       |        0        |       1       |       1        |\n",
      "+--------------+-----------------+---------------+----------------+\n",
      "+-----------+--------+-----+\n",
      "| precision | recall |  F1 |\n",
      "+-----------+--------+-----+\n",
      "|    0.0    |  0.0   | 0.0 |\n",
      "+-----------+--------+-----+ \n",
      "\n",
      "\n",
      "chronic_lung_diseases\n",
      "+--------------+-----------------+---------------+----------------+\n",
      "| total number | correct predict | wrong predict | not in predict |\n",
      "+--------------+-----------------+---------------+----------------+\n",
      "|      5       |        0        |       5       |       0        |\n",
      "+--------------+-----------------+---------------+----------------+\n",
      "+-----------+--------+-----+\n",
      "| precision | recall |  F1 |\n",
      "+-----------+--------+-----+\n",
      "|    0.0    |  0.0   | 0.0 |\n",
      "+-----------+--------+-----+ \n",
      "\n",
      "\n",
      "high_blood_pressure\n",
      "+--------------+-----------------+---------------+----------------+\n",
      "| total number | correct predict | wrong predict | not in predict |\n",
      "+--------------+-----------------+---------------+----------------+\n",
      "|      3       |        0        |       3       |       0        |\n",
      "+--------------+-----------------+---------------+----------------+\n",
      "+-----------+--------+-----+\n",
      "| precision | recall |  F1 |\n",
      "+-----------+--------+-----+\n",
      "|    0.0    |  0.0   | 0.0 |\n",
      "+-----------+--------+-----+ \n",
      "\n",
      "\n",
      "recent_travel\n",
      "+--------------+-----------------+---------------+----------------+\n",
      "| total number | correct predict | wrong predict | not in predict |\n",
      "+--------------+-----------------+---------------+----------------+\n",
      "|      2       |        0        |       2       |       0        |\n",
      "+--------------+-----------------+---------------+----------------+\n",
      "+-----------+--------+-----+\n",
      "| precision | recall |  F1 |\n",
      "+-----------+--------+-----+\n",
      "|    0.0    |  0.0   | 0.0 |\n",
      "+-----------+--------+-----+ \n",
      "\n",
      "\n",
      "contact_with_infestor\n",
      "+--------------+-----------------+---------------+----------------+\n",
      "| total number | correct predict | wrong predict | not in predict |\n",
      "+--------------+-----------------+---------------+----------------+\n",
      "|      5       |        1        |       4       |       0        |\n",
      "+--------------+-----------------+---------------+----------------+\n",
      "+-----------+--------+-------+\n",
      "| precision | recall |   F1  |\n",
      "+-----------+--------+-------+\n",
      "|    1.0    |  0.2   | 0.333 |\n",
      "+-----------+--------+-------+ \n",
      "\n",
      "\n",
      "mass_gathering\n",
      "+--------------+-----------------+---------------+----------------+\n",
      "| total number | correct predict | wrong predict | not in predict |\n",
      "+--------------+-----------------+---------------+----------------+\n",
      "|      2       |        0        |       2       |       0        |\n",
      "+--------------+-----------------+---------------+----------------+\n",
      "+-----------+--------+-----+\n",
      "| precision | recall |  F1 |\n",
      "+-----------+--------+-----+\n",
      "|    0.0    |  0.0   | 0.0 |\n",
      "+-----------+--------+-----+ \n",
      "\n",
      "\n"
     ]
    }
   ],
   "source": [
    "for s in slots:\n",
    "    print(s)\n",
    "    table = PrettyTable()\n",
    "    table.field_names = ['total number','correct predict','wrong predict','not in predict']\n",
    "    table.add_row([count[s][0],str(count[s][1])[:5],str(count[s][2])[:5],str(count[s][3])[:5]])\n",
    "    print(table,)\n",
    "    \n",
    "    table = PrettyTable()\n",
    "    table.field_names = ['precision','recall','F1']\n",
    "    table.add_row([str(metrics[s][0])[:5],str(metrics[s][1])[:5],str(metrics[s][2])[:5]])\n",
    "    print(table,'\\n\\n')"
   ]
  },
  {
   "cell_type": "code",
   "execution_count": null,
   "metadata": {},
   "outputs": [],
   "source": []
  },
  {
   "cell_type": "code",
   "execution_count": null,
   "metadata": {},
   "outputs": [],
   "source": []
  },
  {
   "cell_type": "code",
   "execution_count": null,
   "metadata": {},
   "outputs": [],
   "source": []
  },
  {
   "cell_type": "code",
   "execution_count": null,
   "metadata": {},
   "outputs": [],
   "source": []
  },
  {
   "cell_type": "code",
   "execution_count": null,
   "metadata": {},
   "outputs": [],
   "source": []
  }
 ],
 "metadata": {
  "kernelspec": {
   "display_name": "Python [conda env:gce]",
   "language": "python",
   "name": "conda-env-gce-py"
  },
  "language_info": {
   "codemirror_mode": {
    "name": "ipython",
    "version": 3
   },
   "file_extension": ".py",
   "mimetype": "text/x-python",
   "name": "python",
   "nbconvert_exporter": "python",
   "pygments_lexer": "ipython3",
   "version": "3.7.8"
  }
 },
 "nbformat": 4,
 "nbformat_minor": 4
}
