{
 "cells": [
  {
   "cell_type": "code",
   "execution_count": null,
   "metadata": {},
   "outputs": [],
   "source": [
    "import json\n",
    "from prettytable import PrettyTable\n",
    "\n",
    "with open('slot_accuracy_dev.json') as f:\n",
    "    dev = json.load(f)\n",
    "\n",
    "for slot, value in dev.items():\n",
    "    print(f'slot: {slot:10}')\n",
    "    t = PrettyTable()\n",
    "    t.field_names = ['', 'not in pred', 'in pred', 'correct pred']\n",
    "    t.add_row(['not in label', value[0][0], value[0][1], '-'])\n",
    "    t.add_row(['in lable', value[1][0], value[1][1], value[1][2]])\n",
    "    print(t)\n",
    "    print()"
   ]
  },
  {
   "cell_type": "code",
   "execution_count": 1,
   "metadata": {},
   "outputs": [],
   "source": [
    "import json\n",
    "dev_pred = json.load(open('exp/glad/default/dev.pred.json'))\n",
    "# trn_pred = json.load(open('exp/glad/default/train.pred.json'))\n",
    "tst_pred = json.load(open('exp/glad/default/test.pred.json'))"
   ]
  },
  {
   "cell_type": "code",
   "execution_count": 2,
   "metadata": {},
   "outputs": [
    {
     "name": "stderr",
     "output_type": "stream",
     "text": [
      "WARNING:root:loading split train\n",
      "WARNING:root:loading split dev\n",
      "WARNING:root:loading split test\n"
     ]
    }
   ],
   "source": [
    "import dataset\n",
    "from utils import load_dataset, get_models, load_model\n",
    "dataset, ontology, vocab, Eword = load_dataset()\n",
    "dev = dataset['dev']\n",
    "train = dataset['train']\n",
    "test = dataset['test']"
   ]
  },
  {
   "cell_type": "code",
   "execution_count": 17,
   "metadata": {},
   "outputs": [
    {
     "data": {
      "text/plain": [
       "[['cough', 'severe']]"
      ]
     },
     "execution_count": 17,
     "metadata": {},
     "output_type": "execute_result"
    }
   ],
   "source": [
    "dev_pred['dialogues'][2]['turns'][0]['pred']"
   ]
  },
  {
   "cell_type": "code",
   "execution_count": 18,
   "metadata": {},
   "outputs": [
    {
     "data": {
      "text/plain": [
       "[['fever', 'yes'], ['cough', 'yes']]"
      ]
     },
     "execution_count": 18,
     "metadata": {},
     "output_type": "execute_result"
    }
   ],
   "source": [
    "dev_pred['dialogues'][2]['turns'][0]['turn_label']"
   ]
  },
  {
   "cell_type": "code",
   "execution_count": 3,
   "metadata": {},
   "outputs": [],
   "source": [
    "import numpy as np\n",
    "slot_accuracy_dev = dict(zip(ontology.slots, [np.array([[0]*3]*2)]*len(ontology.slots)))\n",
    "for p_diag, v_diag in zip(tst_pred['dialogues'], test.dialogues):\n",
    "    for p_turn, v_turn in zip(p_diag['turns'], v_diag.turns):\n",
    "        p_labels = p_turn['pred']\n",
    "        v_labels = v_turn.turn_label\n",
    "    \n",
    "        p_state = {}\n",
    "        v_state = {}\n",
    "        for p, v in p_labels:\n",
    "            p_state[p] = v\n",
    "        for p, v in v_labels:\n",
    "            v_state[p] = v\n",
    "\n",
    "        for slot in ontology.slots:\n",
    "            if slot not in p_state.keys() and slot not in v_state.keys():\n",
    "                temp = np.array([[0]*3]*2)\n",
    "                temp = temp + slot_accuracy_dev.get(slot)\n",
    "                temp[0][0] += 1\n",
    "                slot_accuracy_dev[slot] = temp\n",
    "            elif slot not in v_state.keys() and slot in p_state.keys():\n",
    "                temp = np.array([[0]*3]*2)\n",
    "                temp = temp + slot_accuracy_dev.get(slot)\n",
    "                temp[0][1] += 1\n",
    "                slot_accuracy_dev[slot] = temp\n",
    "            elif slot in v_state.keys() and slot not in p_state.keys():\n",
    "                temp = np.array([[0]*3]*2)\n",
    "                temp = temp + slot_accuracy_dev.get(slot)\n",
    "                temp[1][0] += 1\n",
    "                slot_accuracy_dev[slot] = temp\n",
    "            elif slot in v_state.keys() and slot in p_state.keys():\n",
    "                temp = np.array([[0]*3]*2)\n",
    "                temp = temp + slot_accuracy_dev.get(slot)\n",
    "                temp[1][1] += 1\n",
    "                slot_accuracy_dev[slot] = temp\n",
    "                if v_state[slot]==p_state[slot]:\n",
    "                    temp = np.array([[0]*3]*2)\n",
    "                    temp = temp + slot_accuracy_dev.get(slot)\n",
    "                    temp[1][2] += 1\n",
    "                    slot_accuracy_dev[slot] = temp\n",
    "                "
   ]
  },
  {
   "cell_type": "code",
   "execution_count": 4,
   "metadata": {},
   "outputs": [],
   "source": [
    "for slot in slot_accuracy_dev:\n",
    "    slot_accuracy_dev[slot] = slot_accuracy_dev[slot].tolist()\n",
    "with open('slot_accuracy_dev.json', 'wt') as f:\n",
    "    json.dump(slot_accuracy_dev, f)"
   ]
  },
  {
   "cell_type": "code",
   "execution_count": 100,
   "metadata": {},
   "outputs": [],
   "source": [
    "import numpy as np\n",
    "slot_accuracy_test = dict(zip(ontology.slots, [np.array([[0]*3]*2)]*len(ontology.slots)))\n",
    "for p_diag, v_diag in zip(tst_pred['dialogues'], test.dialogues):\n",
    "    for p_turn, v_turn in zip(p_diag['turns'], v_diag.turns):\n",
    "        p_labels = p_turn['pred']\n",
    "        v_labels = v_turn.turn_label\n",
    "    \n",
    "    \n",
    "        p_state = {}\n",
    "        v_state = {}\n",
    "        for p, v in p_labels:\n",
    "            p_state[p] = v\n",
    "        for p, v in v_labels:\n",
    "            v_state[p] = v\n",
    "\n",
    "\n",
    "        for slot in ontology.slots:\n",
    "            if slot not in p_state.keys() and slot not in v_state.keys():\n",
    "                temp = np.array([[0]*3]*2)\n",
    "                temp = temp + slot_accuracy_test.get(slot)\n",
    "                temp[0][0] += 1\n",
    "                slot_accuracy_test[slot] = temp\n",
    "            elif slot not in v_state.keys() and slot in p_state.keys():\n",
    "                temp = np.array([[0]*3]*2)\n",
    "                temp = temp + slot_accuracy_test.get(slot)\n",
    "                temp[0][1] += 1\n",
    "                slot_accuracy_test[slot] = temp\n",
    "            elif slot in v_state.keys() and slot not in p_state.keys():\n",
    "                temp = np.array([[0]*3]*2)\n",
    "                temp = temp + slot_accuracy_test.get(slot)\n",
    "                temp[1][0] += 1\n",
    "                slot_accuracy_test[slot] = temp\n",
    "            elif slot in v_state.keys() and slot in p_state.keys():\n",
    "                temp = np.array([[0]*3]*2)\n",
    "                temp = temp + slot_accuracy_test.get(slot)\n",
    "                temp[1][1] += 1\n",
    "                slot_accuracy_test[slot] = temp\n",
    "                if v_state[slot]==p_state[slot]:\n",
    "                    temp = np.array([[0]*3]*2)\n",
    "                    temp = temp + slot_accuracy_test.get(slot)\n",
    "                    temp[1][2] += 1\n",
    "                    slot_accuracy_test[slot] = temp"
   ]
  },
  {
   "cell_type": "code",
   "execution_count": 105,
   "metadata": {},
   "outputs": [
    {
     "name": "stdout",
     "output_type": "stream",
     "text": [
      "Collecting package metadata (current_repodata.json): done\n",
      "Solving environment: done\n",
      "\n",
      "\n",
      "==> WARNING: A newer version of conda exists. <==\n",
      "  current version: 4.7.12\n",
      "  latest version: 4.8.4\n",
      "\n",
      "Please update conda by running\n",
      "\n",
      "    $ conda update -n base conda\n",
      "\n",
      "\n",
      "\n",
      "## Package Plan ##\n",
      "\n",
      "  environment location: /opt/conda\n",
      "\n",
      "  added / updated specs:\n",
      "    - texttable\n",
      "\n",
      "\n",
      "The following packages will be downloaded:\n",
      "\n",
      "    package                    |            build\n",
      "    ---------------------------|-----------------\n",
      "    texttable-1.6.2            |             py_0          15 KB  conda-forge\n",
      "    ------------------------------------------------------------\n",
      "                                           Total:          15 KB\n",
      "\n",
      "The following NEW packages will be INSTALLED:\n",
      "\n",
      "  texttable          conda-forge/noarch::texttable-1.6.2-py_0\n",
      "\n",
      "\n",
      "\n",
      "Downloading and Extracting Packages\n",
      "texttable-1.6.2      | 15 KB     | ##################################### | 100% \n",
      "Preparing transaction: done\n",
      "Verifying transaction: failed\n",
      "\n",
      "EnvironmentNotWritableError: The current user does not have write permissions to the target environment.\n",
      "  environment location: /opt/conda\n",
      "  uid: 75354\n",
      "  gid: 0\n",
      "\n",
      "\n"
     ]
    }
   ],
   "source": [
    "import sys\n",
    "!conda install --yes --prefix {sys.prefix} texttable"
   ]
  },
  {
   "cell_type": "code",
   "execution_count": 106,
   "metadata": {},
   "outputs": [
    {
     "ename": "ModuleNotFoundError",
     "evalue": "No module named 'texttable'",
     "output_type": "error",
     "traceback": [
      "\u001b[0;31m---------------------------------------------------------------------------\u001b[0m",
      "\u001b[0;31mModuleNotFoundError\u001b[0m                       Traceback (most recent call last)",
      "\u001b[0;32m<ipython-input-106-2aa8d2bcba48>\u001b[0m in \u001b[0;36m<module>\u001b[0;34m\u001b[0m\n\u001b[0;32m----> 1\u001b[0;31m \u001b[0;32mfrom\u001b[0m \u001b[0mtexttable\u001b[0m \u001b[0;32mimport\u001b[0m \u001b[0mTexttable\u001b[0m\u001b[0;34m\u001b[0m\u001b[0;34m\u001b[0m\u001b[0m\n\u001b[0m\u001b[1;32m      2\u001b[0m \u001b[0;32mfor\u001b[0m \u001b[0mslot\u001b[0m \u001b[0;32min\u001b[0m \u001b[0mslot_accuracy_test\u001b[0m\u001b[0;34m:\u001b[0m\u001b[0;34m\u001b[0m\u001b[0;34m\u001b[0m\u001b[0m\n\u001b[1;32m      3\u001b[0m     \u001b[0mprint\u001b[0m\u001b[0;34m(\u001b[0m\u001b[0;34mf'slot: {slot:10}'\u001b[0m\u001b[0;34m)\u001b[0m\u001b[0;34m\u001b[0m\u001b[0;34m\u001b[0m\u001b[0m\n\u001b[1;32m      4\u001b[0m     \u001b[0mt\u001b[0m \u001b[0;34m=\u001b[0m \u001b[0mTexttable\u001b[0m\u001b[0;34m(\u001b[0m\u001b[0;34m)\u001b[0m\u001b[0;34m\u001b[0m\u001b[0;34m\u001b[0m\u001b[0m\n\u001b[1;32m      5\u001b[0m     \u001b[0mt\u001b[0m\u001b[0;34m.\u001b[0m\u001b[0madd_rows\u001b[0m\u001b[0;34m(\u001b[0m\u001b[0mslot_accuracy_test\u001b[0m\u001b[0;34m[\u001b[0m\u001b[0mslot\u001b[0m\u001b[0;34m]\u001b[0m\u001b[0;34m)\u001b[0m\u001b[0;34m\u001b[0m\u001b[0;34m\u001b[0m\u001b[0m\n",
      "\u001b[0;31mModuleNotFoundError\u001b[0m: No module named 'texttable'"
     ]
    }
   ],
   "source": [
    "from texttable import Texttable\n",
    "for slot in slot_accuracy_test:\n",
    "    print(f'slot: {slot:10}')\n",
    "    t = Texttable()\n",
    "    t.add_rows(slot_accuracy_test[slot])\n",
    "    print(t.draw())\n",
    "    "
   ]
  },
  {
   "cell_type": "code",
   "execution_count": null,
   "metadata": {},
   "outputs": [],
   "source": []
  }
 ],
 "metadata": {
  "kernelspec": {
   "display_name": "Python 3",
   "language": "python",
   "name": "python3"
  },
  "language_info": {
   "codemirror_mode": {
    "name": "ipython",
    "version": 3
   },
   "file_extension": ".py",
   "mimetype": "text/x-python",
   "name": "python",
   "nbconvert_exporter": "python",
   "pygments_lexer": "ipython3",
   "version": "3.7.6"
  }
 },
 "nbformat": 4,
 "nbformat_minor": 4
}
