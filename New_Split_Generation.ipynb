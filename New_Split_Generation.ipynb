{
 "cells": [
  {
   "cell_type": "markdown",
   "metadata": {},
   "source": [
    "# Generate New Split of the Dataset\n",
    "This code could be used to generate new random split of the dataset for training, validation and testing. The split would base on a ratio of 8:1:1 for training, validation and testing and would guarantee each slot would appear at least once in validation and testing set. "
   ]
  },
  {
   "cell_type": "code",
   "execution_count": null,
   "metadata": {},
   "outputs": [],
   "source": [
    "# load all the data\n",
    "import json\n",
    "train = json.load(open('data/covid/raw/train.json'))\n",
    "dev = json.load(open('data/covid/raw/dev.json'))\n",
    "test = json.load(open('data/covid/raw/test.json'))"
   ]
  },
  {
   "cell_type": "code",
   "execution_count": null,
   "metadata": {},
   "outputs": [],
   "source": [
    "# load ontology\n",
    "import dataset\n",
    "from utils import load_dataset\n",
    "dataset, ontology, vocab, Eword = load_dataset()"
   ]
  },
  {
   "cell_type": "code",
   "execution_count": null,
   "metadata": {},
   "outputs": [],
   "source": [
    "# combine dataset\n",
    "total = train+dev+test"
   ]
  },
  {
   "cell_type": "code",
   "execution_count": null,
   "metadata": {},
   "outputs": [],
   "source": [
    "# figure out where each slot appear in the dialogs\n",
    "slot_diag = dict(zip(ontology.slots, [[]]*len(ontology.slots)))\n",
    "for diag in total:\n",
    "    for turn in diag['turns']:\n",
    "        for p, v in turn['turn_label']:\n",
    "            if diag['dialogue_index'] not in slot_diag[p]:\n",
    "                temp = []\n",
    "                temp = temp + slot_diag.get(p)\n",
    "                temp.append(diag['dialogue_index'])\n",
    "                slot_diag[p] = temp"
   ]
  },
  {
   "cell_type": "code",
   "execution_count": null,
   "metadata": {},
   "outputs": [],
   "source": [
    "# sort the tatal dataset by dialogue_index\n",
    "total.sort(key=lambda x:x['dialogue_index'])"
   ]
  },
  {
   "cell_type": "code",
   "execution_count": null,
   "metadata": {},
   "outputs": [],
   "source": [
    "# note that there's no dialog with index 462\n",
    "total[461]"
   ]
  },
  {
   "cell_type": "code",
   "execution_count": null,
   "metadata": {},
   "outputs": [],
   "source": [
    "# for each slot, put a dialog in dev and one in test\n",
    "test = []\n",
    "dev = []\n",
    "ocp = []  #stands for the dialog already been used in dev/test\n",
    "for slot, value in slot_diag.items():\n",
    "    if len(value) >= 3:\n",
    "        first = 0\n",
    "        print()\n",
    "        flag = True\n",
    "        while flag == True:\n",
    "            if value[first] <= 461:\n",
    "                if total[value[first]-1] not in ocp:\n",
    "                    test.append(total[value[first]-1])\n",
    "                    ocp.append(total[value[first]-1])\n",
    "                    flag = False\n",
    "                elif total[value[first]-1] not in test:\n",
    "                    first = first + 1\n",
    "                else:\n",
    "                    flag = False\n",
    "            else:\n",
    "                if total[value[first]-2] not in ocp:\n",
    "                    test.append(total[value[first]-2])\n",
    "                    ocp.append(total[value[first]-2])\n",
    "                elif total[value[first]-2] not in test:\n",
    "                    first = first + 1\n",
    "                else: \n",
    "                    flag = False\n",
    "        \n",
    "        sec = 1\n",
    "        flag = True\n",
    "        while flag == True:\n",
    "            if value[sec] <= 461:\n",
    "                if total[value[sec]-1] not in ocp:\n",
    "                    dev.append(total[value[sec]-1])\n",
    "                    ocp.append(total[value[sec]-1])\n",
    "                    flag = False\n",
    "                elif total[value[sec]-1] not in dev:\n",
    "                    sec = sec + 1\n",
    "                else:\n",
    "                    flag = False\n",
    "            else:\n",
    "                if total[value[sec]-2] not in ocp:\n",
    "                    dev.append(total[value[sec]-2])\n",
    "                    ocp.append(total[value[sec]-2])\n",
    "                    flag = False\n",
    "                elif total[value[sec]-2] not in dev:\n",
    "                    sec = sec + 1\n",
    "                else:\n",
    "                    flag = False"
   ]
  },
  {
   "cell_type": "code",
   "execution_count": null,
   "metadata": {},
   "outputs": [],
   "source": [
    "# remove the taken dialog from tatal\n",
    "for diag in test:\n",
    "    total.remove(diag)\n",
    "    \n",
    "for diag in dev:\n",
    "    total.remove(diag)"
   ]
  },
  {
   "cell_type": "code",
   "execution_count": null,
   "metadata": {},
   "outputs": [],
   "source": [
    "import sklearn.model_selection\n",
    "trn_dev, test_set = sklearn.model_selection.train_test_split(total, train_size=len(total)-(60-len(test)), test_size=60-len(test))\n",
    "train_set, dev_set = sklearn.model_selection.train_test_split(trn_dev, train_size=482, test_size=len(trn_dev)-482)"
   ]
  },
  {
   "cell_type": "code",
   "execution_count": null,
   "metadata": {},
   "outputs": [],
   "source": [
    "# append the test set with previous slots\n",
    "test_set += test"
   ]
  },
  {
   "cell_type": "code",
   "execution_count": null,
   "metadata": {},
   "outputs": [],
   "source": [
    "# append the dev set with previous slots\n",
    "dev_set += dev"
   ]
  },
  {
   "cell_type": "code",
   "execution_count": null,
   "metadata": {},
   "outputs": [],
   "source": [
    "# save the split\n",
    "json.dump(train_set, open(f'train.json', 'w'), indent=4)\n",
    "json.dump(dev_set, open(f'dev.json', 'w'), indent=4)\n",
    "json.dump(test_set, open(f'test.json', 'w'), indent=4)"
   ]
  },
  {
   "cell_type": "code",
   "execution_count": null,
   "metadata": {},
   "outputs": [],
   "source": [
    "# update ontology\n",
    "ont = {\"slots\": [], \"system_acts\": [\"request_infomation\",\"dontworry\",\"need_lab_test\",\"contact_doctor\",\"concrete_advice\"], \"values\": {}}\n",
    "for slot in ontology.slots:\n",
    "    if len(slot_diag[slot]) >= 3:\n",
    "        ont[\"slots\"].append(slot)\n",
    "        ont[\"values\"].update({slot: ontology.values[slot]})"
   ]
  },
  {
   "cell_type": "code",
   "execution_count": null,
   "metadata": {},
   "outputs": [],
   "source": [
    "json.dump(ont, open(f'ontology.json', 'w'), indent=4)"
   ]
  }
 ],
 "metadata": {
  "kernelspec": {
   "display_name": "Python 3",
   "language": "python",
   "name": "python3"
  },
  "language_info": {
   "codemirror_mode": {
    "name": "ipython",
    "version": 3
   },
   "file_extension": ".py",
   "mimetype": "text/x-python",
   "name": "python",
   "nbconvert_exporter": "python",
   "pygments_lexer": "ipython3",
   "version": "3.7.6"
  }
 },
 "nbformat": 4,
 "nbformat_minor": 4
}
